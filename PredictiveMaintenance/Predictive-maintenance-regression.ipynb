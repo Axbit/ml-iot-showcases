{
 "cells": [
  {
   "attachments": {},
   "cell_type": "markdown",
   "id": "279f443b",
   "metadata": {},
   "source": [
    "# Introduction\n",
    "\n",
    "This is an attempt to present a case example of machine learning's application on time series data specific to predictive maintenance. Predictive maintenance is about predicting when an in-service machine or part of a machine will fail. This is a very relevant problem to many industrial scenarios to optimize the maintenance scheduling, minimize the downtime and maximizing the usage life of the machine. This example introduces a specific industry scenario that qualify for predictive maintenance. We will utilize time series data presented on Azure AI gallery https://gallery.azure.ai/Experiment/Predictive-Maintenance-Step-1-of-3-data-preparation-and-feature-engineering-2. The data represents measurements from 21 sensors in aircraft engine recorded over time. The main assumption is that the aircraft engine has a progressing degradation pattern, which is supposed to be reflected in sensor's data. Azure ML team has also attempted to solve this problem using built-in predictive maintenance template accomplishing three tasks.\n",
    "\n",
    "- Predict the remaining useful life (RUL) using multiclass logistic regression.\n",
    "- Predict if an asset will fail within certain time window. (Binary classification)\n",
    "- Predict if an asset will two connecting time windows let's say either within w0 cycles or within w1 and w0 cycles where w1 > w0. (Multi-class classification)\n",
    "\n",
    "However, initial checks reveals the the data is time non-stationary and therefore we believe RNN network are better suited methods to capture temporal dynamics. RNNs'networks are kind of neural networks distinguished by their memory used to remember important patterns from the input sequences to predict what's coming next. We will specifically use a special kind of RNN netwrok called long short term memory (LSTM). LSTM has the capability to learn long term patterns. LSTM can be computationally be more expensive but more accurate then other RNNs e.g. GRU. However in cases execution time is not an issue, LSTM is recommended. Further, evalualtion metrics shows better results while using LSTM compare to Azure AI gallery's predictive maintenance templates."
   ]
  },
  {
   "cell_type": "code",
   "execution_count": 1,
   "id": "ce9b7106",
   "metadata": {},
   "outputs": [],
   "source": [
    "!conda activate tf-gpu\n",
    "import keras\n",
    "import wget\n",
    "import pandas as pd\n",
    "import numpy as np\n",
    "import seaborn as sns\n",
    "import matplotlib.pyplot as plt\n",
    "from tabulate import tabulate\n",
    "from helpers import gen_sequence, gen_labels, r2_keras\n",
    "from sklearn import preprocessing\n",
    "from sklearn.metrics import confusion_matrix, recall_score, precision_score"
   ]
  },
  {
   "cell_type": "code",
   "execution_count": 2,
   "id": "1eb3b272",
   "metadata": {},
   "outputs": [],
   "source": [
    "from keras.layers import Dense, Dropout, LSTM, Activation\n",
    "from keras.models import Sequential\n",
    "import tensorflow\n",
    "import os.path\n",
    "from statsmodels.tsa.stattools import adfuller"
   ]
  },
  {
   "cell_type": "markdown",
   "id": "192dff70",
   "metadata": {},
   "source": [
    "### Import data\n",
    "The input data consists of \"PM_train.txt\", \"PM_test.txt\", and \"PM_truth.txt\".\n",
    "\n",
    "The training data consists of multiple multivariate time series with \"cycle\" as the time unit, together with 21 sensor readings for each cycle. Each time series can be assumed as being generated from a different engine of the same type. Each engine is assumed to start with different degrees of initial wear and manufacturing variation, and this information is unknown to the user. In this simulated data, the engine is assumed to be operating normally at the start of each time series. It starts to degrade at some point during the series of the operating cycles. The degradation progresses and grows in magnitude. When a predefined threshold is reached, then the engine is considered unsafe for further operation. In other words, the last cycle in each time series can be considered as the failure point of the corresponding engine. Taking the sample training data shown in the following table as an example, the engine with id=1 fails at cycle 192, and engine with id=2 fails at cycle 287.\n",
    "\n",
    "The testing data has the same data schema as the training data. The only difference is that the data does not indicate when the failure occurs (in other words, the last time period does NOT represent the failure point). Taking the sample testing data shown in the following table as an example, the engine with id=1 runs from cycle 1 through cycle 31. It is not shown how many more cycles this engine can last before it fails.\n",
    "\n",
    "The ground truth data provides the number of remaining working cycles for the engines in the testing data. Taking the sample ground truth data shown in the following table as an example, the engine with id=1 in the testing data can run another 112 cycles before it fails.\n",
    "\n",
    "Apart from sensors data we also have three features setting1, setting2 and setting3 representing some sort of setting parameters."
   ]
  },
  {
   "cell_type": "code",
   "execution_count": 3,
   "id": "f8ed2fad",
   "metadata": {},
   "outputs": [],
   "source": [
    "if (os.path.isfile('PM_train.txt') == False):\n",
    "    wget.download('http://azuremlsamples.azureml.net/templatedata/PM_train.txt')     \n",
    "if (os.path.isfile('PM_test.txt') == False): \n",
    "    wget.download('http://azuremlsamples.azureml.net/templatedata/PM_test.txt') \n",
    "if (os.path.isfile('PM_truth.txt') == False):\n",
    "    wget.download('http://azuremlsamples.azureml.net/templatedata/PM_truth.txt') \n",
    "\n",
    "# Load train, test and ground truth data\n",
    "\n",
    "train_df = pd.read_csv('PM_train.txt', sep=\" \", header=None)\n",
    "train_df.drop(train_df.columns[[26, 27]], axis=1, inplace=True)\n",
    "train_df.columns = ['id', 'cycle', 'setting1', 'setting2', 'setting3', 's1', 's2', 's3',\n",
    "                      's4', 's5', 's6', 's7', 's8', 's9', 's10', 's11', 's12', 's13', 's14',\n",
    "                      's15', 's16', 's17', 's18', 's19', 's20', 's21']\n",
    "\n",
    "\n",
    "test_df = pd.read_csv('PM_test.txt', sep=\" \", header=None)\n",
    "test_df.drop(test_df.columns[[26, 27]], axis=1, inplace=True)\n",
    "test_df.columns = ['id', 'cycle', 'setting1', 'setting2', 'setting3', 's1', 's2', 's3',\n",
    "                      's4', 's5', 's6', 's7', 's8', 's9', 's10', 's11', 's12', 's13', 's14',\n",
    "                      's15', 's16', 's17', 's18', 's19', 's20', 's21']\n",
    "\n",
    "truth_df = pd.read_csv('PM_truth.txt', sep=\" \", header=None)\n",
    "truth_df.drop(truth_df.columns[[1]], axis=1, inplace=True)\n",
    "#truth_df.drop(truth_df.columns[[26, 27]], axis=1, inplace=True)\n",
    "#truth_df.columns = ['id', 'cycle', 'setting1', 'setting2', 'setting3', 's1', 's2', 's3',\n",
    " #                     's4', 's5', 's6', 's7', 's8', 's9', 's10', 's11', 's12', 's13', 's14',\n",
    "  #                    's15', 's16', 's17', 's18', 's19', 's20', 's21']\n"
   ]
  },
  {
   "cell_type": "code",
   "execution_count": 4,
   "id": "9f5b969c",
   "metadata": {},
   "outputs": [
    {
     "data": {
      "text/html": [
       "<div>\n",
       "<style scoped>\n",
       "    .dataframe tbody tr th:only-of-type {\n",
       "        vertical-align: middle;\n",
       "    }\n",
       "\n",
       "    .dataframe tbody tr th {\n",
       "        vertical-align: top;\n",
       "    }\n",
       "\n",
       "    .dataframe thead th {\n",
       "        text-align: right;\n",
       "    }\n",
       "</style>\n",
       "<table border=\"1\" class=\"dataframe\">\n",
       "  <thead>\n",
       "    <tr style=\"text-align: right;\">\n",
       "      <th></th>\n",
       "      <th>id</th>\n",
       "      <th>cycle</th>\n",
       "      <th>setting1</th>\n",
       "      <th>setting2</th>\n",
       "      <th>setting3</th>\n",
       "      <th>s1</th>\n",
       "      <th>s2</th>\n",
       "      <th>s3</th>\n",
       "      <th>s4</th>\n",
       "      <th>s5</th>\n",
       "      <th>...</th>\n",
       "      <th>s12</th>\n",
       "      <th>s13</th>\n",
       "      <th>s14</th>\n",
       "      <th>s15</th>\n",
       "      <th>s16</th>\n",
       "      <th>s17</th>\n",
       "      <th>s18</th>\n",
       "      <th>s19</th>\n",
       "      <th>s20</th>\n",
       "      <th>s21</th>\n",
       "    </tr>\n",
       "  </thead>\n",
       "  <tbody>\n",
       "    <tr>\n",
       "      <th>0</th>\n",
       "      <td>1</td>\n",
       "      <td>1</td>\n",
       "      <td>-0.0007</td>\n",
       "      <td>-0.0004</td>\n",
       "      <td>100.0</td>\n",
       "      <td>518.67</td>\n",
       "      <td>641.82</td>\n",
       "      <td>1589.70</td>\n",
       "      <td>1400.60</td>\n",
       "      <td>14.62</td>\n",
       "      <td>...</td>\n",
       "      <td>521.66</td>\n",
       "      <td>2388.02</td>\n",
       "      <td>8138.62</td>\n",
       "      <td>8.4195</td>\n",
       "      <td>0.03</td>\n",
       "      <td>392</td>\n",
       "      <td>2388</td>\n",
       "      <td>100.0</td>\n",
       "      <td>39.06</td>\n",
       "      <td>23.4190</td>\n",
       "    </tr>\n",
       "    <tr>\n",
       "      <th>1</th>\n",
       "      <td>1</td>\n",
       "      <td>2</td>\n",
       "      <td>0.0019</td>\n",
       "      <td>-0.0003</td>\n",
       "      <td>100.0</td>\n",
       "      <td>518.67</td>\n",
       "      <td>642.15</td>\n",
       "      <td>1591.82</td>\n",
       "      <td>1403.14</td>\n",
       "      <td>14.62</td>\n",
       "      <td>...</td>\n",
       "      <td>522.28</td>\n",
       "      <td>2388.07</td>\n",
       "      <td>8131.49</td>\n",
       "      <td>8.4318</td>\n",
       "      <td>0.03</td>\n",
       "      <td>392</td>\n",
       "      <td>2388</td>\n",
       "      <td>100.0</td>\n",
       "      <td>39.00</td>\n",
       "      <td>23.4236</td>\n",
       "    </tr>\n",
       "    <tr>\n",
       "      <th>2</th>\n",
       "      <td>1</td>\n",
       "      <td>3</td>\n",
       "      <td>-0.0043</td>\n",
       "      <td>0.0003</td>\n",
       "      <td>100.0</td>\n",
       "      <td>518.67</td>\n",
       "      <td>642.35</td>\n",
       "      <td>1587.99</td>\n",
       "      <td>1404.20</td>\n",
       "      <td>14.62</td>\n",
       "      <td>...</td>\n",
       "      <td>522.42</td>\n",
       "      <td>2388.03</td>\n",
       "      <td>8133.23</td>\n",
       "      <td>8.4178</td>\n",
       "      <td>0.03</td>\n",
       "      <td>390</td>\n",
       "      <td>2388</td>\n",
       "      <td>100.0</td>\n",
       "      <td>38.95</td>\n",
       "      <td>23.3442</td>\n",
       "    </tr>\n",
       "    <tr>\n",
       "      <th>3</th>\n",
       "      <td>1</td>\n",
       "      <td>4</td>\n",
       "      <td>0.0007</td>\n",
       "      <td>0.0000</td>\n",
       "      <td>100.0</td>\n",
       "      <td>518.67</td>\n",
       "      <td>642.35</td>\n",
       "      <td>1582.79</td>\n",
       "      <td>1401.87</td>\n",
       "      <td>14.62</td>\n",
       "      <td>...</td>\n",
       "      <td>522.86</td>\n",
       "      <td>2388.08</td>\n",
       "      <td>8133.83</td>\n",
       "      <td>8.3682</td>\n",
       "      <td>0.03</td>\n",
       "      <td>392</td>\n",
       "      <td>2388</td>\n",
       "      <td>100.0</td>\n",
       "      <td>38.88</td>\n",
       "      <td>23.3739</td>\n",
       "    </tr>\n",
       "    <tr>\n",
       "      <th>4</th>\n",
       "      <td>1</td>\n",
       "      <td>5</td>\n",
       "      <td>-0.0019</td>\n",
       "      <td>-0.0002</td>\n",
       "      <td>100.0</td>\n",
       "      <td>518.67</td>\n",
       "      <td>642.37</td>\n",
       "      <td>1582.85</td>\n",
       "      <td>1406.22</td>\n",
       "      <td>14.62</td>\n",
       "      <td>...</td>\n",
       "      <td>522.19</td>\n",
       "      <td>2388.04</td>\n",
       "      <td>8133.80</td>\n",
       "      <td>8.4294</td>\n",
       "      <td>0.03</td>\n",
       "      <td>393</td>\n",
       "      <td>2388</td>\n",
       "      <td>100.0</td>\n",
       "      <td>38.90</td>\n",
       "      <td>23.4044</td>\n",
       "    </tr>\n",
       "  </tbody>\n",
       "</table>\n",
       "<p>5 rows × 26 columns</p>\n",
       "</div>"
      ],
      "text/plain": [
       "   id  cycle  setting1  setting2  setting3      s1      s2       s3       s4  \\\n",
       "0   1      1   -0.0007   -0.0004     100.0  518.67  641.82  1589.70  1400.60   \n",
       "1   1      2    0.0019   -0.0003     100.0  518.67  642.15  1591.82  1403.14   \n",
       "2   1      3   -0.0043    0.0003     100.0  518.67  642.35  1587.99  1404.20   \n",
       "3   1      4    0.0007    0.0000     100.0  518.67  642.35  1582.79  1401.87   \n",
       "4   1      5   -0.0019   -0.0002     100.0  518.67  642.37  1582.85  1406.22   \n",
       "\n",
       "      s5  ...     s12      s13      s14     s15   s16  s17   s18    s19  \\\n",
       "0  14.62  ...  521.66  2388.02  8138.62  8.4195  0.03  392  2388  100.0   \n",
       "1  14.62  ...  522.28  2388.07  8131.49  8.4318  0.03  392  2388  100.0   \n",
       "2  14.62  ...  522.42  2388.03  8133.23  8.4178  0.03  390  2388  100.0   \n",
       "3  14.62  ...  522.86  2388.08  8133.83  8.3682  0.03  392  2388  100.0   \n",
       "4  14.62  ...  522.19  2388.04  8133.80  8.4294  0.03  393  2388  100.0   \n",
       "\n",
       "     s20      s21  \n",
       "0  39.06  23.4190  \n",
       "1  39.00  23.4236  \n",
       "2  38.95  23.3442  \n",
       "3  38.88  23.3739  \n",
       "4  38.90  23.4044  \n",
       "\n",
       "[5 rows x 26 columns]"
      ]
     },
     "execution_count": 4,
     "metadata": {},
     "output_type": "execute_result"
    }
   ],
   "source": [
    "train_df.head()"
   ]
  },
  {
   "cell_type": "markdown",
   "id": "59f7aef2",
   "metadata": {},
   "source": [
    "Sensor should have non zero variance if it posseses hidden pattern related with engine degradation. A sensor have zero variance across all enginer id's mean its either faulty or has no correlation with enginer degradation. We may choose to drop those sensors data."
   ]
  },
  {
   "cell_type": "code",
   "execution_count": 5,
   "id": "f91d0d02",
   "metadata": {},
   "outputs": [
    {
     "data": {
      "text/plain": [
       "id            5050.000000\n",
       "cycle       374135.833333\n",
       "setting1         0.000479\n",
       "setting2         0.000008\n",
       "setting3         0.000000\n",
       "s1               0.000000\n",
       "s2              21.645346\n",
       "s3            3380.073686\n",
       "s4            6695.408989\n",
       "s5               0.000000\n",
       "s6               0.000177\n",
       "s7              63.259996\n",
       "s8               0.344170\n",
       "s9           32804.346724\n",
       "s10              0.000000\n",
       "s11              5.761178\n",
       "s12             43.178846\n",
       "s13              0.352568\n",
       "s14          22489.617257\n",
       "s15              0.120145\n",
       "s16              0.000000\n",
       "s17            212.330447\n",
       "s18              0.000000\n",
       "s19              0.000000\n",
       "s20              2.799292\n",
       "s21              1.002310\n",
       "dtype: float64"
      ]
     },
     "execution_count": 5,
     "metadata": {},
     "output_type": "execute_result"
    }
   ],
   "source": [
    "var_group = train_df.groupby('id').var().reset_index()\n",
    "#print(var_group.head())\n",
    "var_group.sum()"
   ]
  },
  {
   "cell_type": "code",
   "execution_count": 6,
   "id": "a6d4b47a",
   "metadata": {},
   "outputs": [
    {
     "data": {
      "text/plain": [
       "[None, None, None, None, None, None, None]"
      ]
     },
     "execution_count": 6,
     "metadata": {},
     "output_type": "execute_result"
    },
    {
     "data": {
      "image/png": "[encoded data removed]",
      "text/plain": [
       "<Figure size 432x288 with 1 Axes>"
      ]
     },
     "metadata": {
      "needs_background": "dark"
     },
     "output_type": "display_data"
    }
   ],
   "source": [
    "# Setting3 and sensor 1,5,10,16,18,19 have zero variances across all engines. \n",
    "ax = var_group[['setting3','s1','s5','s10','s16','s18','s19']].plot(kind='line')\n",
    "ax.set(facecolor=\"#A3EA90\")\n",
    "[t.set_color('w') for t in ax.xaxis.get_ticklabels()]\n",
    "[t.set_color('w') for t in ax.yaxis.get_ticklabels()]\n",
    "#(var_group==0).any(axis=0)"
   ]
  },
  {
   "cell_type": "markdown",
   "id": "7482a678",
   "metadata": {},
   "source": [
    "These sensor may either by faulty or have no relation with engines aging.We choose to drop these columns."
   ]
  },
  {
   "cell_type": "code",
   "execution_count": 7,
   "id": "1ec3583c",
   "metadata": {},
   "outputs": [
    {
     "data": {
      "text/html": [
       "<div>\n",
       "<style scoped>\n",
       "    .dataframe tbody tr th:only-of-type {\n",
       "        vertical-align: middle;\n",
       "    }\n",
       "\n",
       "    .dataframe tbody tr th {\n",
       "        vertical-align: top;\n",
       "    }\n",
       "\n",
       "    .dataframe thead th {\n",
       "        text-align: right;\n",
       "    }\n",
       "</style>\n",
       "<table border=\"1\" class=\"dataframe\">\n",
       "  <thead>\n",
       "    <tr style=\"text-align: right;\">\n",
       "      <th></th>\n",
       "      <th>id</th>\n",
       "      <th>cycle</th>\n",
       "      <th>setting1</th>\n",
       "      <th>setting2</th>\n",
       "      <th>s2</th>\n",
       "      <th>s3</th>\n",
       "      <th>s4</th>\n",
       "      <th>s6</th>\n",
       "      <th>s7</th>\n",
       "      <th>s8</th>\n",
       "      <th>s9</th>\n",
       "      <th>s11</th>\n",
       "      <th>s12</th>\n",
       "      <th>s13</th>\n",
       "      <th>s14</th>\n",
       "      <th>s15</th>\n",
       "      <th>s17</th>\n",
       "      <th>s20</th>\n",
       "      <th>s21</th>\n",
       "    </tr>\n",
       "  </thead>\n",
       "  <tbody>\n",
       "    <tr>\n",
       "      <th>0</th>\n",
       "      <td>1</td>\n",
       "      <td>1</td>\n",
       "      <td>-0.0007</td>\n",
       "      <td>-0.0004</td>\n",
       "      <td>641.82</td>\n",
       "      <td>1589.70</td>\n",
       "      <td>1400.60</td>\n",
       "      <td>21.61</td>\n",
       "      <td>554.36</td>\n",
       "      <td>2388.06</td>\n",
       "      <td>9046.19</td>\n",
       "      <td>47.47</td>\n",
       "      <td>521.66</td>\n",
       "      <td>2388.02</td>\n",
       "      <td>8138.62</td>\n",
       "      <td>8.4195</td>\n",
       "      <td>392</td>\n",
       "      <td>39.06</td>\n",
       "      <td>23.4190</td>\n",
       "    </tr>\n",
       "    <tr>\n",
       "      <th>1</th>\n",
       "      <td>1</td>\n",
       "      <td>2</td>\n",
       "      <td>0.0019</td>\n",
       "      <td>-0.0003</td>\n",
       "      <td>642.15</td>\n",
       "      <td>1591.82</td>\n",
       "      <td>1403.14</td>\n",
       "      <td>21.61</td>\n",
       "      <td>553.75</td>\n",
       "      <td>2388.04</td>\n",
       "      <td>9044.07</td>\n",
       "      <td>47.49</td>\n",
       "      <td>522.28</td>\n",
       "      <td>2388.07</td>\n",
       "      <td>8131.49</td>\n",
       "      <td>8.4318</td>\n",
       "      <td>392</td>\n",
       "      <td>39.00</td>\n",
       "      <td>23.4236</td>\n",
       "    </tr>\n",
       "    <tr>\n",
       "      <th>2</th>\n",
       "      <td>1</td>\n",
       "      <td>3</td>\n",
       "      <td>-0.0043</td>\n",
       "      <td>0.0003</td>\n",
       "      <td>642.35</td>\n",
       "      <td>1587.99</td>\n",
       "      <td>1404.20</td>\n",
       "      <td>21.61</td>\n",
       "      <td>554.26</td>\n",
       "      <td>2388.08</td>\n",
       "      <td>9052.94</td>\n",
       "      <td>47.27</td>\n",
       "      <td>522.42</td>\n",
       "      <td>2388.03</td>\n",
       "      <td>8133.23</td>\n",
       "      <td>8.4178</td>\n",
       "      <td>390</td>\n",
       "      <td>38.95</td>\n",
       "      <td>23.3442</td>\n",
       "    </tr>\n",
       "    <tr>\n",
       "      <th>3</th>\n",
       "      <td>1</td>\n",
       "      <td>4</td>\n",
       "      <td>0.0007</td>\n",
       "      <td>0.0000</td>\n",
       "      <td>642.35</td>\n",
       "      <td>1582.79</td>\n",
       "      <td>1401.87</td>\n",
       "      <td>21.61</td>\n",
       "      <td>554.45</td>\n",
       "      <td>2388.11</td>\n",
       "      <td>9049.48</td>\n",
       "      <td>47.13</td>\n",
       "      <td>522.86</td>\n",
       "      <td>2388.08</td>\n",
       "      <td>8133.83</td>\n",
       "      <td>8.3682</td>\n",
       "      <td>392</td>\n",
       "      <td>38.88</td>\n",
       "      <td>23.3739</td>\n",
       "    </tr>\n",
       "    <tr>\n",
       "      <th>4</th>\n",
       "      <td>1</td>\n",
       "      <td>5</td>\n",
       "      <td>-0.0019</td>\n",
       "      <td>-0.0002</td>\n",
       "      <td>642.37</td>\n",
       "      <td>1582.85</td>\n",
       "      <td>1406.22</td>\n",
       "      <td>21.61</td>\n",
       "      <td>554.00</td>\n",
       "      <td>2388.06</td>\n",
       "      <td>9055.15</td>\n",
       "      <td>47.28</td>\n",
       "      <td>522.19</td>\n",
       "      <td>2388.04</td>\n",
       "      <td>8133.80</td>\n",
       "      <td>8.4294</td>\n",
       "      <td>393</td>\n",
       "      <td>38.90</td>\n",
       "      <td>23.4044</td>\n",
       "    </tr>\n",
       "  </tbody>\n",
       "</table>\n",
       "</div>"
      ],
      "text/plain": [
       "   id  cycle  setting1  setting2      s2       s3       s4     s6      s7  \\\n",
       "0   1      1   -0.0007   -0.0004  641.82  1589.70  1400.60  21.61  554.36   \n",
       "1   1      2    0.0019   -0.0003  642.15  1591.82  1403.14  21.61  553.75   \n",
       "2   1      3   -0.0043    0.0003  642.35  1587.99  1404.20  21.61  554.26   \n",
       "3   1      4    0.0007    0.0000  642.35  1582.79  1401.87  21.61  554.45   \n",
       "4   1      5   -0.0019   -0.0002  642.37  1582.85  1406.22  21.61  554.00   \n",
       "\n",
       "        s8       s9    s11     s12      s13      s14     s15  s17    s20  \\\n",
       "0  2388.06  9046.19  47.47  521.66  2388.02  8138.62  8.4195  392  39.06   \n",
       "1  2388.04  9044.07  47.49  522.28  2388.07  8131.49  8.4318  392  39.00   \n",
       "2  2388.08  9052.94  47.27  522.42  2388.03  8133.23  8.4178  390  38.95   \n",
       "3  2388.11  9049.48  47.13  522.86  2388.08  8133.83  8.3682  392  38.88   \n",
       "4  2388.06  9055.15  47.28  522.19  2388.04  8133.80  8.4294  393  38.90   \n",
       "\n",
       "       s21  \n",
       "0  23.4190  \n",
       "1  23.4236  \n",
       "2  23.3442  \n",
       "3  23.3739  \n",
       "4  23.4044  "
      ]
     },
     "execution_count": 7,
     "metadata": {},
     "output_type": "execute_result"
    }
   ],
   "source": [
    "train_df = train_df.drop(['setting3','s1','s5','s10','s16','s18','s19'],axis=1)\n",
    "train_df.head()"
   ]
  },
  {
   "cell_type": "markdown",
   "id": "8efb74bd",
   "metadata": {},
   "source": [
    "Setting2 and s6 have way too low variance and may be dropped too. For now we will use but we will adress it again after we see the final results."
   ]
  },
  {
   "cell_type": "raw",
   "id": "c731a8dc",
   "metadata": {},
   "source": [
    "# No NaNs are found as follow. \n",
    "ax = train_df.isna().sum().plot(kind='line')\n",
    "ax.set(facecolor=\"#A3EA90\")\n",
    "[t.set_color('w') for t in ax.xaxis.get_ticklabels()]\n",
    "[t.set_color('w') for t in ax.yaxis.get_ticklabels()]"
   ]
  },
  {
   "cell_type": "markdown",
   "id": "db52cbdf",
   "metadata": {},
   "source": [
    "We should also check if any of series/columns are time stationary or not. "
   ]
  },
  {
   "cell_type": "code",
   "execution_count": 8,
   "id": "ae827bb7",
   "metadata": {},
   "outputs": [
    {
     "name": "stdout",
     "output_type": "stream",
     "text": [
      "s11  is not stationary\n",
      "s12  is not stationary\n",
      "s13  is not stationary\n",
      "s14  is not stationary\n",
      "s15  is not stationary\n",
      "s17  is not stationary\n",
      "s2  is not stationary\n",
      "s20  is not stationary\n",
      "s21  is not stationary\n",
      "s3  is not stationary\n",
      "s4  is not stationary\n",
      "s6  is not stationary\n",
      "s7  is not stationary\n",
      "s8  is not stationary\n",
      "s9  is not stationary\n",
      "setting1  is not stationary\n",
      "setting2  is not stationary\n"
     ]
    }
   ],
   "source": [
    "rul = train_df.groupby('id').agg({'cycle':'max','s2':'std'})\n",
    "af=pd.DataFrame([],columns=['parameter','adFuller','conclusion'])\n",
    "for col in train_df.columns.difference(['id','cycle','cycle_norm','RUL','label1','label2']):\n",
    "    result = adfuller(train_df[col])\n",
    "    if result[0] > result[4][\"5%\"]:\n",
    "        df = pd.DataFrame([[col,result[1],\"Time series is stationary\"]],columns=['parameter','adFuller','conclusion'])\n",
    "        print(col,\" is stationary\")\n",
    "        af = af.append(df)\n",
    "    else:\n",
    "        df = pd.DataFrame([[col,result[1],\"Time series is not stationary\"]],columns=['parameter','adFuller','conclusion'])\n",
    "        print(col, \" is not stationary\")\n",
    "        af = af.append(df)"
   ]
  },
  {
   "cell_type": "code",
   "execution_count": 9,
   "id": "4bb9c52c",
   "metadata": {},
   "outputs": [
    {
     "data": {
      "text/plain": [
       "Text(0.5, 0, 'Features')"
      ]
     },
     "execution_count": 9,
     "metadata": {},
     "output_type": "execute_result"
    },
    {
     "data": {
      "image/png": "[encoded data removed]",
      "text/plain": [
       "<Figure size 1080x432 with 1 Axes>"
      ]
     },
     "metadata": {
      "needs_background": "light"
     },
     "output_type": "display_data"
    }
   ],
   "source": [
    "plt.figure(figsize=(15,6))\n",
    "ax = plt.bar(af['parameter'],af['adFuller'])\n",
    "plt.title('P-values from Augmented Dickey–Fuller test',fontsize=15)\n",
    "plt.xlabel('Features',fontsize=15)"
   ]
  },
  {
   "cell_type": "markdown",
   "id": "ef62ac45",
   "metadata": {},
   "source": [
    "Clearly none of the columns is stationary. In such cases any machine learning methods that are not designed to handle non stationary data will struggle. For example if a training set is seprated into two interval and trained on them separately will give two different models. The reason is simple the two interval represent data from two different time zones and since the data is not stationary they might posseses different pattern. The result is that we can never be confident to use these two models to predict new data. RNN are better equipped of learning time dependent nonlinearities in particular LSTM and GRU are very good at learning long term dependencies. \n",
    "My personal take on RNNs is that we are still learning a pattern from one segment of a time series, and we still want to apply it to another part of the time series to get predictions. The model learns a simplified representation of the time series - and if that representation applies on the training set but not in the test set, it won't perform well. Having said that they are still better choice and one should expect less brittleness of RNN's when dealilng non stationary data. "
   ]
  },
  {
   "cell_type": "code",
   "execution_count": 10,
   "id": "0e256b50",
   "metadata": {},
   "outputs": [
    {
     "data": {
      "text/plain": [
       "Text(0.5, 0, 'Max life(cycle)')"
      ]
     },
     "execution_count": 10,
     "metadata": {},
     "output_type": "execute_result"
    },
    {
     "data": {
      "image/png": "[encoded data removed]",
      "text/plain": [
       "<Figure size 432x288 with 1 Axes>"
      ]
     },
     "metadata": {
      "needs_background": "dark"
     },
     "output_type": "display_data"
    }
   ],
   "source": [
    "rul = pd.DataFrame(train_df.groupby('id')['cycle'].max()).reset_index()\n",
    "rul.columns = ['id', 'max']\n",
    "ax = rul['max'].hist()\n",
    "plt.xticks(color='w',fontsize=10)\n",
    "plt.yticks(color='w',fontsize=10)\n",
    "ax.set(facecolor=\"#A3EA90\")\n",
    "plt.title(\"Histogram of maximum life (cycle)\",color='w')\n",
    "plt.xlabel(\"Max life(cycle)\",color='w')\n",
    "#[t.set_color('w') for t in ax.xaxis.get_ticklabels()]\n",
    "#[t.set_color('w') for t in ax.yaxis.get_ticklabels()]"
   ]
  },
  {
   "cell_type": "markdown",
   "id": "c56fdbcc",
   "metadata": {},
   "source": [
    "The result is not surprising since every engine starts with different but unknown initial condition. It's good to see same type engines with different life span are well represented otherwise ML method won't be challenged enough."
   ]
  },
  {
   "cell_type": "markdown",
   "id": "315cef61",
   "metadata": {},
   "source": [
    "#### Preprocess test data\n",
    "Do the same for test data. We find the same senors data qualify again to be dropped."
   ]
  },
  {
   "cell_type": "code",
   "execution_count": 11,
   "id": "aa718319",
   "metadata": {},
   "outputs": [
    {
     "name": "stdout",
     "output_type": "stream",
     "text": [
      "id            5050.000000\n",
      "cycle       167708.500000\n",
      "setting1         0.000485\n",
      "setting2         0.000008\n",
      "setting3         0.000000\n",
      "s1               0.000000\n",
      "s2              11.329447\n",
      "s3            1954.111320\n",
      "s4            2564.445618\n",
      "s5               0.000000\n",
      "s6               0.000277\n",
      "s7              25.480034\n",
      "s8               0.146950\n",
      "s9            4760.482911\n",
      "s10              0.000000\n",
      "s11              1.918003\n",
      "s12             15.958121\n",
      "s13              0.146322\n",
      "s14           3031.714945\n",
      "s15              0.054525\n",
      "s16              0.000000\n",
      "s17            111.495693\n",
      "s18              0.000000\n",
      "s19              0.000000\n",
      "s20              1.346277\n",
      "s21              0.472412\n",
      "dtype: float64\n"
     ]
    },
    {
     "data": {
      "text/plain": [
       "[None, None, None, None, None, None, None]"
      ]
     },
     "execution_count": 11,
     "metadata": {},
     "output_type": "execute_result"
    },
    {
     "data": {
      "image/png": "[encoded data removed]",
      "text/plain": [
       "<Figure size 432x288 with 1 Axes>"
      ]
     },
     "metadata": {
      "needs_background": "dark"
     },
     "output_type": "display_data"
    }
   ],
   "source": [
    "var_group = test_df.groupby('id').var().reset_index()\n",
    "#print(var_group.head())\n",
    "print(var_group.sum())\n",
    "\n",
    "# Setting3 and sensor 1,5,10,16,18,19 have zero variances across all engines. \n",
    "ax = var_group[['setting3','s1','s5','s10','s16','s18','s19']].plot(kind='line')\n",
    "ax.set(facecolor=\"#A3EA90\")\n",
    "[t.set_color('w') for t in ax.xaxis.get_ticklabels()]\n",
    "[t.set_color('w') for t in ax.yaxis.get_ticklabels()]"
   ]
  },
  {
   "cell_type": "code",
   "execution_count": 12,
   "id": "3d546778",
   "metadata": {},
   "outputs": [
    {
     "data": {
      "text/plain": [
       "[None, None, None, None, None, None, None]"
      ]
     },
     "execution_count": 12,
     "metadata": {},
     "output_type": "execute_result"
    },
    {
     "data": {
      "image/png": "[encoded data removed]",
      "text/plain": [
       "<Figure size 432x288 with 1 Axes>"
      ]
     },
     "metadata": {
      "needs_background": "dark"
     },
     "output_type": "display_data"
    }
   ],
   "source": [
    "test_df = test_df.drop(['setting3','s1','s5','s10','s16','s18','s19'],axis=1)\n",
    "\n",
    "# And No NaNs. \n",
    "ax = test_df.isna().sum().plot(kind='line')\n",
    "ax.set(facecolor=\"#A3EA90\")\n",
    "[t.set_color('w') for t in ax.xaxis.get_ticklabels()]\n",
    "[t.set_color('w') for t in ax.yaxis.get_ticklabels()]"
   ]
  },
  {
   "cell_type": "markdown",
   "id": "184bf7f3",
   "metadata": {},
   "source": [
    "## Predictive maintenance questions and data labeling\n",
    "\n",
    "Given the data, can we predict when an in-service engine will fail?. This falls \n",
    "- To predict the remaining useful life (RUL) in-terms of cycles of the in-service engine.\n",
    "- To predict if an in-service engine fails within next 'w1' cycles (binary classification). We will call it label1.\n",
    "- To predict if an an engine will fail within between (w0,w1) cycles (multiclass classification). Note w0 < w1. we will call it label2."
   ]
  },
  {
   "cell_type": "markdown",
   "id": "b7867af2",
   "metadata": {},
   "source": [
    "### Training data preparation\n",
    "\n",
    "remaining useful life RUL for a given engine will be calulated as the difference of max cycle of given engine-id and the current cycle. \n",
    "for label1 and label2 we pick values for w0 and w1 such that w0<w1. label1 will be equal to 1 if cycle is less then w1 else 0. label2 will be equal to label1 except when cycle < w0, in that case it will take value 2. "
   ]
  },
  {
   "cell_type": "code",
   "execution_count": 13,
   "id": "952d15bb",
   "metadata": {},
   "outputs": [
    {
     "data": {
      "text/plain": [
       "[None, None, None, None, None, None, None, None, None, None, None]"
      ]
     },
     "execution_count": 13,
     "metadata": {},
     "output_type": "execute_result"
    },
    {
     "data": {
      "image/png": "[encoded data removed]",
      "text/plain": [
       "<Figure size 432x288 with 1 Axes>"
      ]
     },
     "metadata": {
      "needs_background": "dark"
     },
     "output_type": "display_data"
    }
   ],
   "source": [
    "# calculate column 'RUL'\n",
    "train_df = train_df.merge(rul, on=['id'], how='left')\n",
    "train_df['RUL'] = train_df['max'] - train_df['cycle']\n",
    "ax = train_df[train_df.id==1][['RUL']].plot(kind='line')\n",
    "plt.title('RUL for engine, id = 1',color='w')\n",
    "train_df.drop('max', axis=1, inplace=True)\n",
    "ax.set(facecolor=\"#A3EA90\")\n",
    "[t.set_color('w') for t in ax.xaxis.get_ticklabels()]\n",
    "[t.set_color('w') for t in ax.yaxis.get_ticklabels()]\n"
   ]
  },
  {
   "cell_type": "code",
   "execution_count": 14,
   "id": "0565c51f",
   "metadata": {},
   "outputs": [
    {
     "data": {
      "text/html": [
       "<div>\n",
       "<style scoped>\n",
       "    .dataframe tbody tr th:only-of-type {\n",
       "        vertical-align: middle;\n",
       "    }\n",
       "\n",
       "    .dataframe tbody tr th {\n",
       "        vertical-align: top;\n",
       "    }\n",
       "\n",
       "    .dataframe thead th {\n",
       "        text-align: right;\n",
       "    }\n",
       "</style>\n",
       "<table border=\"1\" class=\"dataframe\">\n",
       "  <thead>\n",
       "    <tr style=\"text-align: right;\">\n",
       "      <th></th>\n",
       "      <th>id</th>\n",
       "      <th>cycle</th>\n",
       "      <th>setting1</th>\n",
       "      <th>setting2</th>\n",
       "      <th>s2</th>\n",
       "      <th>s3</th>\n",
       "      <th>s4</th>\n",
       "      <th>s6</th>\n",
       "      <th>s7</th>\n",
       "      <th>s8</th>\n",
       "      <th>...</th>\n",
       "      <th>s12</th>\n",
       "      <th>s13</th>\n",
       "      <th>s14</th>\n",
       "      <th>s15</th>\n",
       "      <th>s17</th>\n",
       "      <th>s20</th>\n",
       "      <th>s21</th>\n",
       "      <th>RUL</th>\n",
       "      <th>label1</th>\n",
       "      <th>label2</th>\n",
       "    </tr>\n",
       "  </thead>\n",
       "  <tbody>\n",
       "    <tr>\n",
       "      <th>0</th>\n",
       "      <td>1</td>\n",
       "      <td>1</td>\n",
       "      <td>-0.0007</td>\n",
       "      <td>-0.0004</td>\n",
       "      <td>641.82</td>\n",
       "      <td>1589.70</td>\n",
       "      <td>1400.60</td>\n",
       "      <td>21.61</td>\n",
       "      <td>554.36</td>\n",
       "      <td>2388.06</td>\n",
       "      <td>...</td>\n",
       "      <td>521.66</td>\n",
       "      <td>2388.02</td>\n",
       "      <td>8138.62</td>\n",
       "      <td>8.4195</td>\n",
       "      <td>392</td>\n",
       "      <td>39.06</td>\n",
       "      <td>23.4190</td>\n",
       "      <td>191</td>\n",
       "      <td>0</td>\n",
       "      <td>0</td>\n",
       "    </tr>\n",
       "    <tr>\n",
       "      <th>1</th>\n",
       "      <td>1</td>\n",
       "      <td>2</td>\n",
       "      <td>0.0019</td>\n",
       "      <td>-0.0003</td>\n",
       "      <td>642.15</td>\n",
       "      <td>1591.82</td>\n",
       "      <td>1403.14</td>\n",
       "      <td>21.61</td>\n",
       "      <td>553.75</td>\n",
       "      <td>2388.04</td>\n",
       "      <td>...</td>\n",
       "      <td>522.28</td>\n",
       "      <td>2388.07</td>\n",
       "      <td>8131.49</td>\n",
       "      <td>8.4318</td>\n",
       "      <td>392</td>\n",
       "      <td>39.00</td>\n",
       "      <td>23.4236</td>\n",
       "      <td>190</td>\n",
       "      <td>0</td>\n",
       "      <td>0</td>\n",
       "    </tr>\n",
       "    <tr>\n",
       "      <th>2</th>\n",
       "      <td>1</td>\n",
       "      <td>3</td>\n",
       "      <td>-0.0043</td>\n",
       "      <td>0.0003</td>\n",
       "      <td>642.35</td>\n",
       "      <td>1587.99</td>\n",
       "      <td>1404.20</td>\n",
       "      <td>21.61</td>\n",
       "      <td>554.26</td>\n",
       "      <td>2388.08</td>\n",
       "      <td>...</td>\n",
       "      <td>522.42</td>\n",
       "      <td>2388.03</td>\n",
       "      <td>8133.23</td>\n",
       "      <td>8.4178</td>\n",
       "      <td>390</td>\n",
       "      <td>38.95</td>\n",
       "      <td>23.3442</td>\n",
       "      <td>189</td>\n",
       "      <td>0</td>\n",
       "      <td>0</td>\n",
       "    </tr>\n",
       "    <tr>\n",
       "      <th>3</th>\n",
       "      <td>1</td>\n",
       "      <td>4</td>\n",
       "      <td>0.0007</td>\n",
       "      <td>0.0000</td>\n",
       "      <td>642.35</td>\n",
       "      <td>1582.79</td>\n",
       "      <td>1401.87</td>\n",
       "      <td>21.61</td>\n",
       "      <td>554.45</td>\n",
       "      <td>2388.11</td>\n",
       "      <td>...</td>\n",
       "      <td>522.86</td>\n",
       "      <td>2388.08</td>\n",
       "      <td>8133.83</td>\n",
       "      <td>8.3682</td>\n",
       "      <td>392</td>\n",
       "      <td>38.88</td>\n",
       "      <td>23.3739</td>\n",
       "      <td>188</td>\n",
       "      <td>0</td>\n",
       "      <td>0</td>\n",
       "    </tr>\n",
       "    <tr>\n",
       "      <th>4</th>\n",
       "      <td>1</td>\n",
       "      <td>5</td>\n",
       "      <td>-0.0019</td>\n",
       "      <td>-0.0002</td>\n",
       "      <td>642.37</td>\n",
       "      <td>1582.85</td>\n",
       "      <td>1406.22</td>\n",
       "      <td>21.61</td>\n",
       "      <td>554.00</td>\n",
       "      <td>2388.06</td>\n",
       "      <td>...</td>\n",
       "      <td>522.19</td>\n",
       "      <td>2388.04</td>\n",
       "      <td>8133.80</td>\n",
       "      <td>8.4294</td>\n",
       "      <td>393</td>\n",
       "      <td>38.90</td>\n",
       "      <td>23.4044</td>\n",
       "      <td>187</td>\n",
       "      <td>0</td>\n",
       "      <td>0</td>\n",
       "    </tr>\n",
       "  </tbody>\n",
       "</table>\n",
       "<p>5 rows × 22 columns</p>\n",
       "</div>"
      ],
      "text/plain": [
       "   id  cycle  setting1  setting2      s2       s3       s4     s6      s7  \\\n",
       "0   1      1   -0.0007   -0.0004  641.82  1589.70  1400.60  21.61  554.36   \n",
       "1   1      2    0.0019   -0.0003  642.15  1591.82  1403.14  21.61  553.75   \n",
       "2   1      3   -0.0043    0.0003  642.35  1587.99  1404.20  21.61  554.26   \n",
       "3   1      4    0.0007    0.0000  642.35  1582.79  1401.87  21.61  554.45   \n",
       "4   1      5   -0.0019   -0.0002  642.37  1582.85  1406.22  21.61  554.00   \n",
       "\n",
       "        s8  ...     s12      s13      s14     s15  s17    s20      s21  RUL  \\\n",
       "0  2388.06  ...  521.66  2388.02  8138.62  8.4195  392  39.06  23.4190  191   \n",
       "1  2388.04  ...  522.28  2388.07  8131.49  8.4318  392  39.00  23.4236  190   \n",
       "2  2388.08  ...  522.42  2388.03  8133.23  8.4178  390  38.95  23.3442  189   \n",
       "3  2388.11  ...  522.86  2388.08  8133.83  8.3682  392  38.88  23.3739  188   \n",
       "4  2388.06  ...  522.19  2388.04  8133.80  8.4294  393  38.90  23.4044  187   \n",
       "\n",
       "   label1  label2  \n",
       "0       0       0  \n",
       "1       0       0  \n",
       "2       0       0  \n",
       "3       0       0  \n",
       "4       0       0  \n",
       "\n",
       "[5 rows x 22 columns]"
      ]
     },
     "execution_count": 14,
     "metadata": {},
     "output_type": "execute_result"
    }
   ],
   "source": [
    "# General label1 and label2 columns\n",
    "w1 = 30\n",
    "w0 = 15\n",
    "train_df['label1'] = np.where(train_df['RUL'] <= w1, 1, 0 )\n",
    "train_df['label2'] = train_df['label1']\n",
    "train_df.loc[train_df['RUL'] <= w0, 'label2'] = 2\n",
    "train_df.head()"
   ]
  },
  {
   "cell_type": "markdown",
   "id": "a265363f",
   "metadata": {},
   "source": [
    "Normalize all training data except RUL, id and labels. cycle column will also be included in training and therefore will be normalized"
   ]
  },
  {
   "cell_type": "code",
   "execution_count": 15,
   "id": "e218378e",
   "metadata": {},
   "outputs": [],
   "source": [
    "train_df['cycle_norm'] = train_df['cycle']\n",
    "cols_normalize = train_df.columns.difference(['id','cycle','RUL','label1','label2'])\n",
    "min_max_scaler = preprocessing.MinMaxScaler()\n",
    "norm_train_df = pd.DataFrame(min_max_scaler.fit_transform(train_df[cols_normalize]), \n",
    "                             columns=cols_normalize, \n",
    "                             index=train_df.index)\n",
    "join_df = train_df[train_df.columns.difference(cols_normalize)].join(norm_train_df)\n",
    "train_df = join_df.reindex(columns = train_df.columns)"
   ]
  },
  {
   "cell_type": "markdown",
   "id": "5718d4c4",
   "metadata": {},
   "source": [
    "### Preparing test data\n",
    "\n",
    "Test must use ground truth data to calculate RUL and the two label columns as explained the remaining working cycles for a given engine is not included in test data but in ground truth data."
   ]
  },
  {
   "cell_type": "code",
   "execution_count": 16,
   "id": "88149a0c",
   "metadata": {},
   "outputs": [],
   "source": [
    "# MinMax Normalization similar to training data normalization\n",
    "test_df['cycle_norm'] = test_df['cycle']\n",
    "norm_test_df = pd.DataFrame(min_max_scaler.transform(test_df[cols_normalize]), \n",
    "                            columns=cols_normalize, \n",
    "                            index=test_df.index)\n",
    "test_join_df = test_df[test_df.columns.difference(cols_normalize)].join(norm_test_df)\n",
    "test_df = test_join_df.reindex(columns = test_df.columns)\n",
    "test_df = test_df.reset_index(drop=True)"
   ]
  },
  {
   "cell_type": "code",
   "execution_count": 17,
   "id": "95ee17fa",
   "metadata": {},
   "outputs": [],
   "source": [
    "# Generate RUL and 2 lebel columns\n",
    "\n",
    "# First generate column max for test data\n",
    "rul = pd.DataFrame(test_df.groupby('id')['cycle'].max()).reset_index()\n",
    "rul.columns = ['id', 'max']\n",
    "truth_df.columns = ['more']\n",
    "truth_df['id'] = truth_df.index + 1\n",
    "truth_df['max'] = rul['max'] + truth_df['more']\n",
    "truth_df.drop('more', axis=1, inplace=True)"
   ]
  },
  {
   "cell_type": "code",
   "execution_count": 18,
   "id": "784784ff",
   "metadata": {},
   "outputs": [],
   "source": [
    "# generate RUL for test data\n",
    "test_df = test_df.merge(truth_df, on=['id'], how='left')\n",
    "test_df['RUL'] = test_df['max'] - test_df['cycle']\n",
    "test_df.drop('max', axis=1, inplace=True)"
   ]
  },
  {
   "cell_type": "code",
   "execution_count": 19,
   "id": "d159e1a8",
   "metadata": {},
   "outputs": [
    {
     "data": {
      "text/html": [
       "<div>\n",
       "<style scoped>\n",
       "    .dataframe tbody tr th:only-of-type {\n",
       "        vertical-align: middle;\n",
       "    }\n",
       "\n",
       "    .dataframe tbody tr th {\n",
       "        vertical-align: top;\n",
       "    }\n",
       "\n",
       "    .dataframe thead th {\n",
       "        text-align: right;\n",
       "    }\n",
       "</style>\n",
       "<table border=\"1\" class=\"dataframe\">\n",
       "  <thead>\n",
       "    <tr style=\"text-align: right;\">\n",
       "      <th></th>\n",
       "      <th>id</th>\n",
       "      <th>cycle</th>\n",
       "      <th>setting1</th>\n",
       "      <th>setting2</th>\n",
       "      <th>s2</th>\n",
       "      <th>s3</th>\n",
       "      <th>s4</th>\n",
       "      <th>s6</th>\n",
       "      <th>s7</th>\n",
       "      <th>s8</th>\n",
       "      <th>...</th>\n",
       "      <th>s13</th>\n",
       "      <th>s14</th>\n",
       "      <th>s15</th>\n",
       "      <th>s17</th>\n",
       "      <th>s20</th>\n",
       "      <th>s21</th>\n",
       "      <th>cycle_norm</th>\n",
       "      <th>RUL</th>\n",
       "      <th>label1</th>\n",
       "      <th>label2</th>\n",
       "    </tr>\n",
       "  </thead>\n",
       "  <tbody>\n",
       "    <tr>\n",
       "      <th>0</th>\n",
       "      <td>1</td>\n",
       "      <td>1</td>\n",
       "      <td>0.632184</td>\n",
       "      <td>0.750000</td>\n",
       "      <td>0.545181</td>\n",
       "      <td>0.310661</td>\n",
       "      <td>0.269413</td>\n",
       "      <td>1.0</td>\n",
       "      <td>0.652174</td>\n",
       "      <td>0.212121</td>\n",
       "      <td>...</td>\n",
       "      <td>0.220588</td>\n",
       "      <td>0.132160</td>\n",
       "      <td>0.308965</td>\n",
       "      <td>0.333333</td>\n",
       "      <td>0.558140</td>\n",
       "      <td>0.661834</td>\n",
       "      <td>0.00000</td>\n",
       "      <td>142</td>\n",
       "      <td>0</td>\n",
       "      <td>0</td>\n",
       "    </tr>\n",
       "    <tr>\n",
       "      <th>1</th>\n",
       "      <td>1</td>\n",
       "      <td>2</td>\n",
       "      <td>0.344828</td>\n",
       "      <td>0.250000</td>\n",
       "      <td>0.150602</td>\n",
       "      <td>0.379551</td>\n",
       "      <td>0.222316</td>\n",
       "      <td>1.0</td>\n",
       "      <td>0.805153</td>\n",
       "      <td>0.166667</td>\n",
       "      <td>...</td>\n",
       "      <td>0.264706</td>\n",
       "      <td>0.204768</td>\n",
       "      <td>0.213159</td>\n",
       "      <td>0.416667</td>\n",
       "      <td>0.682171</td>\n",
       "      <td>0.686827</td>\n",
       "      <td>0.00277</td>\n",
       "      <td>141</td>\n",
       "      <td>0</td>\n",
       "      <td>0</td>\n",
       "    </tr>\n",
       "    <tr>\n",
       "      <th>2</th>\n",
       "      <td>1</td>\n",
       "      <td>3</td>\n",
       "      <td>0.517241</td>\n",
       "      <td>0.583333</td>\n",
       "      <td>0.376506</td>\n",
       "      <td>0.346632</td>\n",
       "      <td>0.322248</td>\n",
       "      <td>1.0</td>\n",
       "      <td>0.685990</td>\n",
       "      <td>0.227273</td>\n",
       "      <td>...</td>\n",
       "      <td>0.220588</td>\n",
       "      <td>0.155640</td>\n",
       "      <td>0.458638</td>\n",
       "      <td>0.416667</td>\n",
       "      <td>0.728682</td>\n",
       "      <td>0.721348</td>\n",
       "      <td>0.00554</td>\n",
       "      <td>140</td>\n",
       "      <td>0</td>\n",
       "      <td>0</td>\n",
       "    </tr>\n",
       "    <tr>\n",
       "      <th>3</th>\n",
       "      <td>1</td>\n",
       "      <td>4</td>\n",
       "      <td>0.741379</td>\n",
       "      <td>0.500000</td>\n",
       "      <td>0.370482</td>\n",
       "      <td>0.285154</td>\n",
       "      <td>0.408001</td>\n",
       "      <td>1.0</td>\n",
       "      <td>0.679549</td>\n",
       "      <td>0.196970</td>\n",
       "      <td>...</td>\n",
       "      <td>0.250000</td>\n",
       "      <td>0.170090</td>\n",
       "      <td>0.257022</td>\n",
       "      <td>0.250000</td>\n",
       "      <td>0.666667</td>\n",
       "      <td>0.662110</td>\n",
       "      <td>0.00831</td>\n",
       "      <td>139</td>\n",
       "      <td>0</td>\n",
       "      <td>0</td>\n",
       "    </tr>\n",
       "    <tr>\n",
       "      <th>4</th>\n",
       "      <td>1</td>\n",
       "      <td>5</td>\n",
       "      <td>0.580460</td>\n",
       "      <td>0.500000</td>\n",
       "      <td>0.391566</td>\n",
       "      <td>0.352082</td>\n",
       "      <td>0.332039</td>\n",
       "      <td>1.0</td>\n",
       "      <td>0.694042</td>\n",
       "      <td>0.166667</td>\n",
       "      <td>...</td>\n",
       "      <td>0.220588</td>\n",
       "      <td>0.152751</td>\n",
       "      <td>0.300885</td>\n",
       "      <td>0.166667</td>\n",
       "      <td>0.658915</td>\n",
       "      <td>0.716377</td>\n",
       "      <td>0.01108</td>\n",
       "      <td>138</td>\n",
       "      <td>0</td>\n",
       "      <td>0</td>\n",
       "    </tr>\n",
       "  </tbody>\n",
       "</table>\n",
       "<p>5 rows × 23 columns</p>\n",
       "</div>"
      ],
      "text/plain": [
       "   id  cycle  setting1  setting2        s2        s3        s4   s6        s7  \\\n",
       "0   1      1  0.632184  0.750000  0.545181  0.310661  0.269413  1.0  0.652174   \n",
       "1   1      2  0.344828  0.250000  0.150602  0.379551  0.222316  1.0  0.805153   \n",
       "2   1      3  0.517241  0.583333  0.376506  0.346632  0.322248  1.0  0.685990   \n",
       "3   1      4  0.741379  0.500000  0.370482  0.285154  0.408001  1.0  0.679549   \n",
       "4   1      5  0.580460  0.500000  0.391566  0.352082  0.332039  1.0  0.694042   \n",
       "\n",
       "         s8  ...       s13       s14       s15       s17       s20       s21  \\\n",
       "0  0.212121  ...  0.220588  0.132160  0.308965  0.333333  0.558140  0.661834   \n",
       "1  0.166667  ...  0.264706  0.204768  0.213159  0.416667  0.682171  0.686827   \n",
       "2  0.227273  ...  0.220588  0.155640  0.458638  0.416667  0.728682  0.721348   \n",
       "3  0.196970  ...  0.250000  0.170090  0.257022  0.250000  0.666667  0.662110   \n",
       "4  0.166667  ...  0.220588  0.152751  0.300885  0.166667  0.658915  0.716377   \n",
       "\n",
       "   cycle_norm  RUL  label1  label2  \n",
       "0     0.00000  142       0       0  \n",
       "1     0.00277  141       0       0  \n",
       "2     0.00554  140       0       0  \n",
       "3     0.00831  139       0       0  \n",
       "4     0.01108  138       0       0  \n",
       "\n",
       "[5 rows x 23 columns]"
      ]
     },
     "execution_count": 19,
     "metadata": {},
     "output_type": "execute_result"
    }
   ],
   "source": [
    "# generate label columns w0 and w1 for test data\n",
    "test_df['label1'] = np.where(test_df['RUL'] <= w1, 1, 0 )\n",
    "test_df['label2'] = test_df['label1']\n",
    "test_df.loc[test_df['RUL'] <= w0, 'label2'] = 2\n",
    "test_df.head()"
   ]
  },
  {
   "cell_type": "markdown",
   "id": "3943e07c",
   "metadata": {},
   "source": [
    "# Modeling\n",
    "LSTM uses time-series domain as length of time window to look back and extract feature out of the sequence of 21 sensors     data. This is an automatic feature engineering instead of manual feature engineering. Manual feature engineering is based on the domain knowledge which may add value in explaining the model results. LSTM will endcode the pattern if there is one between the the sensor data in the given time window and the failure. LSTM has the ability to remember from long term window sizes which is hard to achieve with traditional feature engineering.\n",
    "\n",
    "We are choosing LSTM because we want to capture long pattens to achieve high accuracy. This will come at cost higher computation cost but it's not a point of concern at this point."
   ]
  },
  {
   "cell_type": "markdown",
   "id": "9dbec9d3",
   "metadata": {},
   "source": [
    "<br>\n",
    "\n",
    "\n",
    "\n",
    "\n",
    "# <span style='color:Blue'> Regression </span>\n",
    "\n",
    "Predict the remaining useful life (RUL). "
   ]
  },
  {
   "cell_type": "code",
   "execution_count": 20,
   "id": "d196a95c",
   "metadata": {
    "scrolled": true
   },
   "outputs": [
    {
     "name": "stdout",
     "output_type": "stream",
     "text": [
      "Dimension of sequence array is: (15631, 50, 26)  :Last index represents the total number of features and middle index of for the length of sequence\n"
     ]
    }
   ],
   "source": [
    "# The first step is to define the time window, how far do we want to look into the past. We call it sequence length\n",
    "# LSTM will use this to keep the patterns from this time window in its memory\n",
    "\n",
    "sequence_length = 50  # here 50 represnts time in terms of the number of cycles\n",
    "\n",
    "# pick the feature columns and generate sequences both for X and labels\n",
    "sensor_cols = list(train_df.columns)\n",
    "sequence_cols = ['setting1', 'setting2', 'cycle_norm']\n",
    "sequence_cols.extend(sensor_cols)\n",
    "\n",
    "# generator for the sequences\n",
    "seq_gen = (list(gen_sequence(train_df[train_df['id']==id], sequence_length, sequence_cols)) \n",
    "           for id in train_df['id'].unique())\n",
    "\n",
    "# generate sequences and convert to numpy array\n",
    "seq_array = np.concatenate(list(seq_gen)).astype(np.float32)\n",
    "print('Dimension of sequence array is:', seq_array.shape,' :Last index represents the total number of features and middle index of for the length of sequence')"
   ]
  },
  {
   "cell_type": "code",
   "execution_count": 21,
   "id": "d99af290",
   "metadata": {},
   "outputs": [
    {
     "name": "stdout",
     "output_type": "stream",
     "text": [
      "Dimension of label array is: (15631, 1)\n"
     ]
    }
   ],
   "source": [
    "# generate labels\n",
    "label_gen = [gen_labels(train_df[train_df['id']==id], sequence_length, ['RUL']) \n",
    "             for id in train_df['id'].unique()]\n",
    "label_array = np.concatenate(label_gen).astype(np.float32)\n",
    "print('Dimension of label array is:', label_array.shape)"
   ]
  },
  {
   "cell_type": "markdown",
   "id": "0fac042f",
   "metadata": {},
   "source": [
    "The network pretty much the same except the last layer is 1-D dense for regression. The model compile is different too to handle regression problem. We are using Mean squared error and mean absolute error as evaluation metrics. Azure ML team used the same and so we can do comparison."
   ]
  },
  {
   "cell_type": "code",
   "execution_count": 22,
   "id": "146fe052",
   "metadata": {},
   "outputs": [
    {
     "name": "stdout",
     "output_type": "stream",
     "text": [
      "Model: \"sequential\"\n",
      "_________________________________________________________________\n",
      "Layer (type)                 Output Shape              Param #   \n",
      "=================================================================\n",
      "lstm (LSTM)                  (None, 50, 100)           50800     \n",
      "_________________________________________________________________\n",
      "dropout (Dropout)            (None, 50, 100)           0         \n",
      "_________________________________________________________________\n",
      "lstm_1 (LSTM)                (None, 50)                30200     \n",
      "_________________________________________________________________\n",
      "dropout_1 (Dropout)          (None, 50)                0         \n",
      "_________________________________________________________________\n",
      "dense (Dense)                (None, 1)                 51        \n",
      "_________________________________________________________________\n",
      "activation (Activation)      (None, 1)                 0         \n",
      "=================================================================\n",
      "Total params: 81,051\n",
      "Trainable params: 81,051\n",
      "Non-trainable params: 0\n",
      "_________________________________________________________________\n",
      "None\n"
     ]
    }
   ],
   "source": [
    "# build the network\n",
    "nb_features = seq_array.shape[2]\n",
    "nb_out = label_array.shape[1]\n",
    "\n",
    "model = Sequential()\n",
    "model.add(LSTM(\n",
    "         input_shape=(sequence_length, nb_features),\n",
    "         units=100,\n",
    "         return_sequences=True))\n",
    "model.add(Dropout(0.2))\n",
    "model.add(LSTM(\n",
    "          units=50,\n",
    "          return_sequences=False))\n",
    "model.add(Dropout(0.2))\n",
    "model.add(Dense(units=nb_out))\n",
    "model.add(Activation(\"linear\"))\n",
    "model.compile(loss='mean_squared_error', optimizer='rmsprop',metrics='mae')\n",
    "print(model.summary())"
   ]
  },
  {
   "cell_type": "code",
   "execution_count": 23,
   "id": "bcb8c63b",
   "metadata": {},
   "outputs": [
    {
     "name": "stdout",
     "output_type": "stream",
     "text": [
      "Epoch 1/100\n",
      "75/75 [==============================] - 7s 94ms/step - loss: 8888.4473 - mae: 75.5654 - val_loss: 8236.8750 - val_mae: 72.0866\n",
      "Epoch 2/100\n",
      "75/75 [==============================] - 7s 88ms/step - loss: 8137.1758 - mae: 70.8098 - val_loss: 7697.3911 - val_mae: 68.4386\n",
      "Epoch 3/100\n",
      "75/75 [==============================] - 7s 89ms/step - loss: 7614.4766 - mae: 67.4228 - val_loss: 7195.1421 - val_mae: 65.3033\n",
      "Epoch 4/100\n",
      "75/75 [==============================] - 7s 89ms/step - loss: 7118.3477 - mae: 64.2087 - val_loss: 6713.5005 - val_mae: 62.3619\n",
      "Epoch 5/100\n",
      "75/75 [==============================] - 7s 91ms/step - loss: 6647.6992 - mae: 61.0634 - val_loss: 6256.5269 - val_mae: 58.9887\n",
      "Epoch 6/100\n",
      "75/75 [==============================] - 7s 92ms/step - loss: 6198.2925 - mae: 58.0112 - val_loss: 5822.9653 - val_mae: 55.9043\n",
      "Epoch 7/100\n",
      "75/75 [==============================] - 7s 91ms/step - loss: 5777.2881 - mae: 55.1194 - val_loss: 5412.3643 - val_mae: 52.8393\n",
      "Epoch 8/100\n",
      "75/75 [==============================] - 7s 92ms/step - loss: 5370.5889 - mae: 52.2462 - val_loss: 5028.2578 - val_mae: 50.4916\n",
      "Epoch 9/100\n",
      "75/75 [==============================] - 7s 94ms/step - loss: 4993.7026 - mae: 49.5103 - val_loss: 4665.6973 - val_mae: 47.9021\n",
      "Epoch 10/100\n",
      "75/75 [==============================] - 7s 98ms/step - loss: 4634.1934 - mae: 46.8721 - val_loss: 4315.3755 - val_mae: 44.5719\n",
      "Epoch 11/100\n",
      "75/75 [==============================] - 7s 95ms/step - loss: 4292.9741 - mae: 44.2479 - val_loss: 3991.7654 - val_mae: 42.2211\n",
      "Epoch 12/100\n",
      "75/75 [==============================] - 7s 98ms/step - loss: 3988.6194 - mae: 41.9218 - val_loss: 3687.1943 - val_mae: 39.5979\n",
      "Epoch 13/100\n",
      "75/75 [==============================] - 7s 94ms/step - loss: 3691.4363 - mae: 39.5061 - val_loss: 3403.5488 - val_mae: 38.2809\n",
      "Epoch 14/100\n",
      "75/75 [==============================] - 7s 95ms/step - loss: 3397.6814 - mae: 37.2218 - val_loss: 3131.3245 - val_mae: 34.9840\n",
      "Epoch 15/100\n",
      "75/75 [==============================] - 7s 94ms/step - loss: 3142.9805 - mae: 35.1054 - val_loss: 2879.6509 - val_mae: 32.9861\n",
      "Epoch 16/100\n",
      "75/75 [==============================] - 7s 94ms/step - loss: 2898.7979 - mae: 33.0889 - val_loss: 2645.4155 - val_mae: 31.0737\n",
      "Epoch 17/100\n",
      "75/75 [==============================] - 7s 92ms/step - loss: 2660.7109 - mae: 31.0747 - val_loss: 2424.8442 - val_mae: 28.5841\n",
      "Epoch 18/100\n",
      "75/75 [==============================] - 7s 97ms/step - loss: 2458.6465 - mae: 29.2986 - val_loss: 2223.3428 - val_mae: 26.9604\n",
      "Epoch 19/100\n",
      "75/75 [==============================] - 7s 93ms/step - loss: 2247.9224 - mae: 27.4671 - val_loss: 2033.8347 - val_mae: 25.5229\n",
      "Epoch 20/100\n",
      "75/75 [==============================] - 7s 93ms/step - loss: 2067.9695 - mae: 25.8045 - val_loss: 1856.9506 - val_mae: 23.4389\n",
      "Epoch 21/100\n",
      "75/75 [==============================] - 7s 93ms/step - loss: 1897.2603 - mae: 24.2877 - val_loss: 1693.1804 - val_mae: 21.6541\n",
      "Epoch 22/100\n",
      "75/75 [==============================] - 7s 92ms/step - loss: 1748.9399 - mae: 22.8550 - val_loss: 1547.4674 - val_mae: 20.9982\n",
      "Epoch 23/100\n",
      "75/75 [==============================] - 7s 91ms/step - loss: 1585.7375 - mae: 21.3791 - val_loss: 1408.5012 - val_mae: 19.5624\n",
      "Epoch 24/100\n",
      "75/75 [==============================] - 7s 92ms/step - loss: 1462.2395 - mae: 20.1537 - val_loss: 1278.6600 - val_mae: 17.7880\n",
      "Epoch 25/100\n",
      "75/75 [==============================] - 7s 96ms/step - loss: 1339.4355 - mae: 18.9576 - val_loss: 1170.9902 - val_mae: 17.3483\n",
      "Epoch 26/100\n",
      "75/75 [==============================] - 7s 96ms/step - loss: 1227.8535 - mae: 17.8983 - val_loss: 1062.4995 - val_mae: 16.4000\n",
      "Epoch 27/100\n",
      "75/75 [==============================] - 7s 91ms/step - loss: 1106.7917 - mae: 16.7063 - val_loss: 949.1922 - val_mae: 13.8490\n",
      "Epoch 28/100\n",
      "75/75 [==============================] - 7s 88ms/step - loss: 1025.3119 - mae: 15.8878 - val_loss: 859.2041 - val_mae: 13.0808\n",
      "Epoch 29/100\n",
      "75/75 [==============================] - 7s 94ms/step - loss: 936.6074 - mae: 14.9705 - val_loss: 819.5158 - val_mae: 15.6845\n",
      "Epoch 30/100\n",
      "75/75 [==============================] - 7s 96ms/step - loss: 854.8610 - mae: 14.2825 - val_loss: 702.2606 - val_mae: 11.3696\n",
      "Epoch 31/100\n",
      "75/75 [==============================] - 7s 94ms/step - loss: 778.2957 - mae: 13.4437 - val_loss: 640.1745 - val_mae: 11.4039\n",
      "Epoch 32/100\n",
      "75/75 [==============================] - 7s 94ms/step - loss: 710.5395 - mae: 12.7314 - val_loss: 575.7985 - val_mae: 10.6527\n",
      "Epoch 33/100\n",
      "75/75 [==============================] - 7s 97ms/step - loss: 647.2441 - mae: 12.1229 - val_loss: 534.2138 - val_mae: 11.6461\n",
      "Epoch 34/100\n",
      "75/75 [==============================] - 7s 94ms/step - loss: 593.0660 - mae: 11.5392 - val_loss: 490.2600 - val_mae: 11.6482\n",
      "Epoch 35/100\n",
      "75/75 [==============================] - 7s 95ms/step - loss: 549.3738 - mae: 11.1351 - val_loss: 419.1714 - val_mae: 8.4481\n",
      "Epoch 36/100\n",
      "75/75 [==============================] - 7s 94ms/step - loss: 496.9838 - mae: 10.6453 - val_loss: 379.7542 - val_mae: 8.4732\n",
      "Epoch 37/100\n",
      "75/75 [==============================] - 7s 93ms/step - loss: 457.7514 - mae: 10.1961 - val_loss: 331.3983 - val_mae: 7.2705\n",
      "Epoch 38/100\n",
      "75/75 [==============================] - 7s 95ms/step - loss: 424.5535 - mae: 9.9520 - val_loss: 319.2706 - val_mae: 9.5246\n",
      "Epoch 39/100\n",
      "75/75 [==============================] - 8s 107ms/step - loss: 388.5532 - mae: 9.5723 - val_loss: 260.8161 - val_mae: 6.0321\n",
      "Epoch 40/100\n",
      "75/75 [==============================] - 7s 97ms/step - loss: 360.0484 - mae: 9.1944 - val_loss: 233.1492 - val_mae: 6.1186\n",
      "Epoch 41/100\n",
      "75/75 [==============================] - 7s 92ms/step - loss: 330.5130 - mae: 8.9824 - val_loss: 217.7722 - val_mae: 6.8130\n",
      "Epoch 42/100\n",
      "75/75 [==============================] - 7s 95ms/step - loss: 308.6843 - mae: 8.6511 - val_loss: 225.3581 - val_mae: 9.0936\n",
      "Epoch 43/100\n",
      "75/75 [==============================] - 7s 98ms/step - loss: 289.9335 - mae: 8.5027 - val_loss: 168.8862 - val_mae: 5.9492\n",
      "Epoch 44/100\n",
      "75/75 [==============================] - 7s 95ms/step - loss: 265.1723 - mae: 8.1736 - val_loss: 139.9182 - val_mae: 4.7343\n",
      "Epoch 45/100\n",
      "75/75 [==============================] - 7s 93ms/step - loss: 251.3614 - mae: 8.0507 - val_loss: 128.4805 - val_mae: 5.6741\n",
      "Epoch 46/100\n",
      "75/75 [==============================] - 7s 95ms/step - loss: 232.2505 - mae: 7.8658 - val_loss: 103.2232 - val_mae: 3.8744\n",
      "Epoch 47/100\n",
      "75/75 [==============================] - 7s 95ms/step - loss: 213.1254 - mae: 7.6515 - val_loss: 106.2921 - val_mae: 5.8987\n",
      "Epoch 48/100\n",
      "75/75 [==============================] - 7s 97ms/step - loss: 207.2689 - mae: 7.6336 - val_loss: 106.8719 - val_mae: 6.7166\n",
      "Epoch 49/100\n",
      "75/75 [==============================] - 7s 98ms/step - loss: 191.7534 - mae: 7.3446 - val_loss: 71.3980 - val_mae: 3.8653\n",
      "Epoch 50/100\n",
      "75/75 [==============================] - 7s 92ms/step - loss: 180.2650 - mae: 7.3550 - val_loss: 117.3042 - val_mae: 7.1886\n",
      "Epoch 51/100\n",
      "75/75 [==============================] - 7s 96ms/step - loss: 168.7024 - mae: 7.1860 - val_loss: 48.7396 - val_mae: 2.8153\n",
      "Epoch 52/100\n",
      "75/75 [==============================] - 7s 99ms/step - loss: 163.2768 - mae: 7.0896 - val_loss: 54.7891 - val_mae: 4.5550\n",
      "Epoch 53/100\n",
      "75/75 [==============================] - 7s 95ms/step - loss: 156.4578 - mae: 7.0085 - val_loss: 41.2705 - val_mae: 3.3647\n",
      "Epoch 54/100\n",
      "75/75 [==============================] - 7s 97ms/step - loss: 149.0517 - mae: 6.9466 - val_loss: 68.8971 - val_mae: 6.0649\n",
      "Epoch 55/100\n",
      "75/75 [==============================] - 8s 100ms/step - loss: 144.2883 - mae: 6.8344 - val_loss: 43.1060 - val_mae: 4.4076\n",
      "Epoch 56/100\n",
      "75/75 [==============================] - 7s 96ms/step - loss: 136.4180 - mae: 6.7517 - val_loss: 26.0819 - val_mae: 2.8364\n",
      "Epoch 57/100\n",
      "75/75 [==============================] - 7s 94ms/step - loss: 129.3601 - mae: 6.6166 - val_loss: 40.7760 - val_mae: 4.4127\n",
      "Epoch 58/100\n",
      "75/75 [==============================] - 7s 95ms/step - loss: 121.9995 - mae: 6.5352 - val_loss: 59.7853 - val_mae: 5.8402\n",
      "Epoch 59/100\n",
      "75/75 [==============================] - 7s 95ms/step - loss: 120.4111 - mae: 6.5706 - val_loss: 40.5197 - val_mae: 5.6636\n",
      "Epoch 60/100\n"
     ]
    },
    {
     "name": "stdout",
     "output_type": "stream",
     "text": [
      "75/75 [==============================] - 7s 94ms/step - loss: 116.7837 - mae: 6.4730 - val_loss: 11.9999 - val_mae: 1.7327\n",
      "Epoch 61/100\n",
      "75/75 [==============================] - 7s 94ms/step - loss: 115.2653 - mae: 6.3980 - val_loss: 78.7912 - val_mae: 7.1327\n",
      "Epoch 62/100\n",
      "75/75 [==============================] - 7s 95ms/step - loss: 117.4478 - mae: 6.5493 - val_loss: 20.2540 - val_mae: 2.7699\n",
      "Epoch 63/100\n",
      "75/75 [==============================] - 7s 95ms/step - loss: 110.2097 - mae: 6.3900 - val_loss: 9.9958 - val_mae: 1.9699\n",
      "Epoch 64/100\n",
      "75/75 [==============================] - 7s 97ms/step - loss: 105.5203 - mae: 6.3263 - val_loss: 8.0569 - val_mae: 2.0858\n",
      "Epoch 65/100\n",
      "75/75 [==============================] - 7s 94ms/step - loss: 100.3064 - mae: 6.1929 - val_loss: 16.6252 - val_mae: 3.4671\n",
      "Epoch 66/100\n",
      "75/75 [==============================] - 7s 94ms/step - loss: 101.4654 - mae: 6.1989 - val_loss: 14.5321 - val_mae: 2.9830\n",
      "Epoch 67/100\n",
      "75/75 [==============================] - 7s 90ms/step - loss: 98.6761 - mae: 6.1229 - val_loss: 5.7137 - val_mae: 1.8421\n",
      "Epoch 68/100\n",
      "75/75 [==============================] - 7s 94ms/step - loss: 97.1825 - mae: 6.2107 - val_loss: 10.4285 - val_mae: 2.5309\n",
      "Epoch 69/100\n",
      "75/75 [==============================] - 7s 95ms/step - loss: 96.1430 - mae: 6.1430 - val_loss: 6.9405 - val_mae: 1.9314\n",
      "Epoch 70/100\n",
      "75/75 [==============================] - 7s 96ms/step - loss: 91.6739 - mae: 6.0822 - val_loss: 41.5427 - val_mae: 5.7535\n",
      "Epoch 71/100\n",
      "75/75 [==============================] - 7s 90ms/step - loss: 87.8755 - mae: 5.9713 - val_loss: 56.1645 - val_mae: 6.1826\n",
      "Epoch 72/100\n",
      "75/75 [==============================] - 7s 94ms/step - loss: 90.6954 - mae: 6.0818 - val_loss: 7.9448 - val_mae: 1.7622\n",
      "Epoch 73/100\n",
      "75/75 [==============================] - 7s 95ms/step - loss: 91.4756 - mae: 6.0580 - val_loss: 3.8753 - val_mae: 1.5170\n",
      "Epoch 74/100\n",
      "75/75 [==============================] - 7s 99ms/step - loss: 86.1761 - mae: 5.9876 - val_loss: 3.8670 - val_mae: 1.5523\n",
      "Epoch 75/100\n",
      "75/75 [==============================] - 7s 100ms/step - loss: 87.8443 - mae: 5.9584 - val_loss: 12.3548 - val_mae: 3.2856\n",
      "Epoch 76/100\n",
      "75/75 [==============================] - 7s 95ms/step - loss: 87.4894 - mae: 5.9919 - val_loss: 47.1296 - val_mae: 5.4748\n",
      "Epoch 77/100\n",
      "75/75 [==============================] - 7s 97ms/step - loss: 85.0450 - mae: 5.8486 - val_loss: 14.4244 - val_mae: 2.9108\n",
      "Epoch 78/100\n",
      "75/75 [==============================] - 7s 96ms/step - loss: 81.9977 - mae: 5.8506 - val_loss: 6.8025 - val_mae: 2.2122\n",
      "Epoch 79/100\n",
      "75/75 [==============================] - 7s 94ms/step - loss: 83.8434 - mae: 5.8402 - val_loss: 4.9502 - val_mae: 1.7892\n",
      "Epoch 80/100\n",
      "75/75 [==============================] - 7s 93ms/step - loss: 78.2434 - mae: 5.7637 - val_loss: 46.6111 - val_mae: 5.6243\n",
      "Epoch 81/100\n",
      "75/75 [==============================] - 7s 98ms/step - loss: 80.6620 - mae: 5.8267 - val_loss: 10.7178 - val_mae: 2.8408\n",
      "Epoch 82/100\n",
      "75/75 [==============================] - 7s 96ms/step - loss: 77.8634 - mae: 5.7964 - val_loss: 4.1392 - val_mae: 1.6433\n",
      "Epoch 83/100\n",
      "75/75 [==============================] - 7s 97ms/step - loss: 78.8318 - mae: 5.7551 - val_loss: 22.6780 - val_mae: 3.9293\n",
      "Epoch 84/100\n",
      "75/75 [==============================] - 7s 96ms/step - loss: 78.7178 - mae: 5.7944 - val_loss: 11.5436 - val_mae: 1.6576\n"
     ]
    },
    {
     "data": {
      "text/plain": [
       "<tensorflow.python.keras.callbacks.History at 0x25a9636ab50>"
      ]
     },
     "execution_count": 23,
     "metadata": {},
     "output_type": "execute_result"
    }
   ],
   "source": [
    "# fit the network\n",
    "model.fit(seq_array, label_array, epochs=100, batch_size=200, validation_split=0.05, verbose=1,\n",
    "          callbacks = [keras.callbacks.EarlyStopping(monitor='val_loss', min_delta=0, patience=10, verbose=0, mode='min')])"
   ]
  },
  {
   "cell_type": "code",
   "execution_count": 24,
   "id": "839300a3",
   "metadata": {},
   "outputs": [
    {
     "name": "stdout",
     "output_type": "stream",
     "text": [
      "79/79 [==============================] - 3s 34ms/step - loss: 19.8650 - mae: 1.9430\n",
      "MSE: [19.86501121520996, 1.9430345296859741]\n"
     ]
    }
   ],
   "source": [
    "# training metrics. We \n",
    "scores = model.evaluate(seq_array, label_array, verbose=1, batch_size=200)\n",
    "print('MSE: {}'.format(scores))"
   ]
  },
  {
   "cell_type": "markdown",
   "id": "ed8d243c",
   "metadata": {},
   "source": [
    "#### Predict and evalaute using test data"
   ]
  },
  {
   "cell_type": "code",
   "execution_count": 25,
   "id": "91eb489a",
   "metadata": {},
   "outputs": [
    {
     "name": "stdout",
     "output_type": "stream",
     "text": [
      "Dimension of sequence array: (93, 50, 26)\n"
     ]
    }
   ],
   "source": [
    "# Generate sequence array from test data\n",
    "seq_test = [test_df[test_df['id']==id][sequence_cols].values[-sequence_length:] \n",
    "                       for id in test_df['id'].unique() if len(test_df[test_df['id']==id]) >= sequence_length]\n",
    "\n",
    "seq_test = np.asarray(seq_test).astype(np.float32)\n",
    "print('Dimension of sequence array:',seq_test.shape)"
   ]
  },
  {
   "cell_type": "code",
   "execution_count": 26,
   "id": "c2735e0f",
   "metadata": {},
   "outputs": [
    {
     "name": "stdout",
     "output_type": "stream",
     "text": [
      "Dimension of lebel array: (93, 1)\n"
     ]
    }
   ],
   "source": [
    "# Generate sequence label array\n",
    "y_mask = [len(test_df[test_df['id']==id]) >= sequence_length for id in test_df['id'].unique()]\n",
    "label_test = test_df.groupby('id')['RUL'].nth(-1)[y_mask].values\n",
    "label_test = label_test.reshape(label_test.shape[0],1).astype(np.float32)\n",
    "label_test.shape\n",
    "\n",
    "print('Dimension of lebel array:', label_test.shape)"
   ]
  },
  {
   "cell_type": "markdown",
   "id": "3f22da22",
   "metadata": {},
   "source": [
    "<br>\n",
    "<br>\n",
    "<br>\n",
    "\n",
    "\n",
    "\n",
    "## <span style='color:green'> ----------Final comparison and results: Regression---------- </span>"
   ]
  },
  {
   "cell_type": "code",
   "execution_count": 27,
   "id": "9ab18137",
   "metadata": {},
   "outputs": [
    {
     "name": "stdout",
     "output_type": "stream",
     "text": [
      "3/3 - 0s - loss: 1.8326 - mae: 1.1108\n",
      "Azure best result (decision tree): [ 29.6 , 21.3 ]\n",
      "Axbit best model (LSTM):          [ 1.8 ,  1.1  ]\n",
      "+------------------------------------------------------+-------+-------+\n",
      "|                                                      |   MSE |   MAE |\n",
      "|------------------------------------------------------+-------+-------|\n",
      "| Axbit best model (LSTM)                              |   1.8 |   1.1 |\n",
      "| Azure Template Best Model (Decision tree regression) |  29.6 |  21.3 |\n",
      "+------------------------------------------------------+-------+-------+\n"
     ]
    }
   ],
   "source": [
    "# test metrics\n",
    "scores_test = model.evaluate(seq_test, label_test, verbose=2)\n",
    "#print('MSE: {}'.format(scores_test))\n",
    "print(\"Azure best result (decision tree): [ 29.6 , 21.3 ]\")\n",
    "print(\"Axbit best model (LSTM):          [\",np.round(scores_test[0],1),\", \", np.round(scores_test[1],1),\" ]\" )\n",
    "\n",
    "\n",
    "results_df = pd.DataFrame([[np.round(scores_test[0],1),np.round(scores_test[1],1)],\n",
    "                          [29.6, 21.3]],\n",
    "                         columns = ['MSE', 'MAE'],\n",
    "                         index = ['Axbit best model (LSTM)',\n",
    "                                  'Azure Template Best Model (Decision tree regression)'])\n",
    "#print(results_df)\n",
    "print(tabulate(results_df,headers='keys',tablefmt='psql'))"
   ]
  },
  {
   "cell_type": "code",
   "execution_count": 28,
   "id": "ffb04956",
   "metadata": {},
   "outputs": [],
   "source": [
    "y_pred = model.predict(seq_test)"
   ]
  },
  {
   "cell_type": "code",
   "execution_count": 29,
   "id": "364fd339",
   "metadata": {},
   "outputs": [
    {
     "data": {
      "image/png": "[encoded data removed]",
      "text/plain": [
       "<Figure size 648x360 with 1 Axes>"
      ]
     },
     "metadata": {
      "needs_background": "light"
     },
     "output_type": "display_data"
    }
   ],
   "source": [
    "y_pred = np.reshape(y_pred,len(y_pred))\n",
    "label_test = np.reshape(label_test,len(y_pred))\n",
    "z = np.polyfit(y_pred, label_test, 1)\n",
    "fig, ax = plt.subplots(figsize=(9, 5))\n",
    "ax.scatter(y_pred, label_test, c='red', edgecolors='k')\n",
    "#Plot the best fit line\n",
    "ax.plot(np.polyval(z,label_test), label_test, c='blue', linewidth=1)\n",
    "#Plot the ideal 1:1 line\n",
    "ax.plot(label_test, label_test, color='green', linewidth=1)\n",
    "plt.xlabel('Predicted $^{\\circ}$RUL')\n",
    "plt.ylabel('True $^{\\circ}$RUL')\n",
    "plt.show()"
   ]
  },
  {
   "cell_type": "code",
   "execution_count": 30,
   "id": "778914d4",
   "metadata": {},
   "outputs": [
    {
     "data": {
      "image/png": "[encoded data removed]",
      "text/plain": [
       "<Figure size 648x360 with 1 Axes>"
      ]
     },
     "metadata": {
      "needs_background": "light"
     },
     "output_type": "display_data"
    }
   ],
   "source": [
    "fig, ax = plt.subplots(figsize=(9, 5))\n",
    "ax.plot(y_pred,'.-')\n",
    "ax.plot(label_test,'.-r')\n",
    "#Plot the best fit line\n",
    "#plt.xlabel('Predicted $^{\\circ}$RUL')\n",
    "plt.ylabel('Predicted vs True $^{\\circ}$RUL')\n",
    "plt.show()"
   ]
  },
  {
   "cell_type": "code",
   "execution_count": null,
   "id": "8ebc1894",
   "metadata": {},
   "outputs": [],
   "source": []
  }
 ],
 "metadata": {
  "kernelspec": {
   "display_name": "Python 3",
   "language": "python",
   "name": "python3"
  },
  "language_info": {
   "codemirror_mode": {
    "name": "ipython",
    "version": 3
   },
   "file_extension": ".py",
   "mimetype": "text/x-python",
   "name": "python",
   "nbconvert_exporter": "python",
   "pygments_lexer": "ipython3",
   "version": "3.8.8"
  }
 },
 "nbformat": 4,
 "nbformat_minor": 5
}
