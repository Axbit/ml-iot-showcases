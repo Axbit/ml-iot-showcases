{
 "cells": [
  {
   "cell_type": "markdown",
   "id": "279f443b",
   "metadata": {},
   "source": [
    "# Introduction\n",
    "\n",
    "This is an attempt to present a case example of machine learning's application on time series data specific to predictive maintenance. Predictive maintenance is about predicting when an in-service machine or part of a machine will fail. This is a very relevant problem to many industrial scenarios to optimize the maintenance scheduling, minimize the downtime and maximizing the usage life of the machine. This example introduces a specific industry scenario that qualify for predictive maintenance. We will utilize time series data presented on Azure AI gallery https://gallery.azure.ai/Experiment/Predictive-Maintenance-Step-1-of-3-data-preparation-and-feature-engineering-2. The data represents measurements from 21 sensors in aircraft engine recorded over time. The main assumption is that the aircraft engine has a progressing degradation pattern, which is supposed to be reflected in sensor's data. Azure ML team has also attempted to solve this problem using built-in predictive maintenance template accomplishing three tasks.\n",
    "\n",
    "- Predict the remaining useful life (RUL) using multiclass logistic regression.\n",
    "- Predict if an asset will fail within certain time window. (Binary classification)\n",
    "- Predict if an asset will two connecting time windows let's say either within w0 cycles or within w1 and w0 cycles where w1 > w0. (Multi-class classification)\n",
    "\n",
    "However, initial checks reveals the the data is time non-stationary and therefore we believe RNN network are better suited methods to capture temporal dynamics. RNNs'networks are kind of neural networks distinguished by their memory used to remember important patterns from the input sequences to predict what's coming next. We will specifically use a special kind of RNN netwrok called long short term memory (LSTM). LSTM has the capability to learn long term patterns. LSTM can be computationally be more expensive but more accurate then other RNNs e.g. GRU. However in cases execution time is not an issue, LSTM is recommended. Further, evalualtion metrics shows better results while using LSTM compare to Azure AI gallery's predictive maintenance templates."
   ]
  },
  {
   "cell_type": "code",
   "execution_count": 13,
   "id": "ce9b7106",
   "metadata": {},
   "outputs": [],
   "source": [
    "import keras\n",
    "import wget\n",
    "import pandas as pd\n",
    "import seaborn as sns\n",
    "import numpy as np\n",
    "from tabulate import tabulate\n",
    "import matplotlib.pyplot as plt\n",
    "from helpers import gen_sequence, gen_labels, r2_keras\n",
    "from keras.callbacks import History\n",
    "from sklearn import preprocessing\n",
    "from sklearn.metrics import confusion_matrix, recall_score, precision_score\n",
    "from tensorflow.keras.utils import to_categorical"
   ]
  },
  {
   "cell_type": "code",
   "execution_count": 14,
   "id": "1eb3b272",
   "metadata": {},
   "outputs": [],
   "source": [
    "from tensorflow.keras.layers import Dense, Dropout, LSTM, Activation\n",
    "from tensorflow.keras.models import Sequential\n",
    "\n",
    "import os.path"
   ]
  },
  {
   "cell_type": "markdown",
   "id": "192dff70",
   "metadata": {},
   "source": [
    "### Import data\n",
    "The input data consists of \"PM_train.txt\", \"PM_test.txt\", and \"PM_truth.txt\".\n",
    "\n",
    "The training data consists of multiple multivariate time series with \"cycle\" as the time unit, together with 21 sensor readings for each cycle. Each time series can be assumed as being generated from a different engine of the same type. Each engine is assumed to start with different degrees of initial wear and manufacturing variation, and this information is unknown to the user. In this simulated data, the engine is assumed to be operating normally at the start of each time series. It starts to degrade at some point during the series of the operating cycles. The degradation progresses and grows in magnitude. When a predefined threshold is reached, then the engine is considered unsafe for further operation. In other words, the last cycle in each time series can be considered as the failure point of the corresponding engine. Taking the sample training data shown in the following table as an example, the engine with id=1 fails at cycle 192, and engine with id=2 fails at cycle 287.\n",
    "\n",
    "The testing data has the same data schema as the training data. The only difference is that the data does not indicate when the failure occurs (in other words, the last time period does NOT represent the failure point). Taking the sample testing data shown in the following table as an example, the engine with id=1 runs from cycle 1 through cycle 31. It is not shown how many more cycles this engine can last before it fails.\n",
    "\n",
    "The ground truth data provides the number of remaining working cycles for the engines in the testing data. Taking the sample ground truth data shown in the following table as an example, the engine with id=1 in the testing data can run another 112 cycles before it fails.\n",
    "\n",
    "Apart from sensors data we also have three features setting1, setting2 and setting3 representing some sort of setting parameters."
   ]
  },
  {
   "cell_type": "code",
   "execution_count": 15,
   "id": "f8ed2fad",
   "metadata": {},
   "outputs": [],
   "source": [
    "if (os.path.isfile('PM_train.txt') == False):\n",
    "    wget.download('http://azuremlsamples.azureml.net/templatedata/PM_train.txt')     \n",
    "if (os.path.isfile('PM_test.txt') == False): \n",
    "    wget.download('http://azuremlsamples.azureml.net/templatedata/PM_test.txt') \n",
    "if (os.path.isfile('PM_truth.txt') == False):\n",
    "    wget.download('http://azuremlsamples.azureml.net/templatedata/PM_truth.txt') \n",
    "\n",
    "# Load train, test and ground truth data\n",
    "\n",
    "train_df = pd.read_csv('PM_train.txt', sep=\" \", header=None)\n",
    "train_df.drop(train_df.columns[[26, 27]], axis=1, inplace=True)\n",
    "train_df.columns = ['id', 'cycle', 'setting1', 'setting2', 'setting3', 's1', 's2', 's3',\n",
    "                      's4', 's5', 's6', 's7', 's8', 's9', 's10', 's11', 's12', 's13', 's14',\n",
    "                      's15', 's16', 's17', 's18', 's19', 's20', 's21']\n",
    "\n",
    "\n",
    "test_df = pd.read_csv('PM_test.txt', sep=\" \", header=None)\n",
    "test_df.drop(test_df.columns[[26, 27]], axis=1, inplace=True)\n",
    "test_df.columns = ['id', 'cycle', 'setting1', 'setting2', 'setting3', 's1', 's2', 's3',\n",
    "                      's4', 's5', 's6', 's7', 's8', 's9', 's10', 's11', 's12', 's13', 's14',\n",
    "                      's15', 's16', 's17', 's18', 's19', 's20', 's21']\n",
    "\n",
    "truth_df = pd.read_csv('PM_truth.txt', sep=\" \", header=None)\n",
    "truth_df.drop(truth_df.columns[[1]], axis=1, inplace=True)\n",
    "#truth_df.drop(truth_df.columns[[26, 27]], axis=1, inplace=True)\n",
    "#truth_df.columns = ['id', 'cycle', 'setting1', 'setting2', 'setting3', 's1', 's2', 's3',\n",
    " #                     's4', 's5', 's6', 's7', 's8', 's9', 's10', 's11', 's12', 's13', 's14',\n",
    "  #                    's15', 's16', 's17', 's18', 's19', 's20', 's21']\n"
   ]
  },
  {
   "cell_type": "code",
   "execution_count": 16,
   "id": "9f5b969c",
   "metadata": {},
   "outputs": [
    {
     "data": {
      "text/html": [
       "<div>\n",
       "<style scoped>\n",
       "    .dataframe tbody tr th:only-of-type {\n",
       "        vertical-align: middle;\n",
       "    }\n",
       "\n",
       "    .dataframe tbody tr th {\n",
       "        vertical-align: top;\n",
       "    }\n",
       "\n",
       "    .dataframe thead th {\n",
       "        text-align: right;\n",
       "    }\n",
       "</style>\n",
       "<table border=\"1\" class=\"dataframe\">\n",
       "  <thead>\n",
       "    <tr style=\"text-align: right;\">\n",
       "      <th></th>\n",
       "      <th>id</th>\n",
       "      <th>cycle</th>\n",
       "      <th>setting1</th>\n",
       "      <th>setting2</th>\n",
       "      <th>setting3</th>\n",
       "      <th>s1</th>\n",
       "      <th>s2</th>\n",
       "      <th>s3</th>\n",
       "      <th>s4</th>\n",
       "      <th>s5</th>\n",
       "      <th>...</th>\n",
       "      <th>s12</th>\n",
       "      <th>s13</th>\n",
       "      <th>s14</th>\n",
       "      <th>s15</th>\n",
       "      <th>s16</th>\n",
       "      <th>s17</th>\n",
       "      <th>s18</th>\n",
       "      <th>s19</th>\n",
       "      <th>s20</th>\n",
       "      <th>s21</th>\n",
       "    </tr>\n",
       "  </thead>\n",
       "  <tbody>\n",
       "    <tr>\n",
       "      <th>0</th>\n",
       "      <td>1</td>\n",
       "      <td>1</td>\n",
       "      <td>-0.0007</td>\n",
       "      <td>-0.0004</td>\n",
       "      <td>100.0</td>\n",
       "      <td>518.67</td>\n",
       "      <td>641.82</td>\n",
       "      <td>1589.70</td>\n",
       "      <td>1400.60</td>\n",
       "      <td>14.62</td>\n",
       "      <td>...</td>\n",
       "      <td>521.66</td>\n",
       "      <td>2388.02</td>\n",
       "      <td>8138.62</td>\n",
       "      <td>8.4195</td>\n",
       "      <td>0.03</td>\n",
       "      <td>392</td>\n",
       "      <td>2388</td>\n",
       "      <td>100.0</td>\n",
       "      <td>39.06</td>\n",
       "      <td>23.4190</td>\n",
       "    </tr>\n",
       "    <tr>\n",
       "      <th>1</th>\n",
       "      <td>1</td>\n",
       "      <td>2</td>\n",
       "      <td>0.0019</td>\n",
       "      <td>-0.0003</td>\n",
       "      <td>100.0</td>\n",
       "      <td>518.67</td>\n",
       "      <td>642.15</td>\n",
       "      <td>1591.82</td>\n",
       "      <td>1403.14</td>\n",
       "      <td>14.62</td>\n",
       "      <td>...</td>\n",
       "      <td>522.28</td>\n",
       "      <td>2388.07</td>\n",
       "      <td>8131.49</td>\n",
       "      <td>8.4318</td>\n",
       "      <td>0.03</td>\n",
       "      <td>392</td>\n",
       "      <td>2388</td>\n",
       "      <td>100.0</td>\n",
       "      <td>39.00</td>\n",
       "      <td>23.4236</td>\n",
       "    </tr>\n",
       "    <tr>\n",
       "      <th>2</th>\n",
       "      <td>1</td>\n",
       "      <td>3</td>\n",
       "      <td>-0.0043</td>\n",
       "      <td>0.0003</td>\n",
       "      <td>100.0</td>\n",
       "      <td>518.67</td>\n",
       "      <td>642.35</td>\n",
       "      <td>1587.99</td>\n",
       "      <td>1404.20</td>\n",
       "      <td>14.62</td>\n",
       "      <td>...</td>\n",
       "      <td>522.42</td>\n",
       "      <td>2388.03</td>\n",
       "      <td>8133.23</td>\n",
       "      <td>8.4178</td>\n",
       "      <td>0.03</td>\n",
       "      <td>390</td>\n",
       "      <td>2388</td>\n",
       "      <td>100.0</td>\n",
       "      <td>38.95</td>\n",
       "      <td>23.3442</td>\n",
       "    </tr>\n",
       "    <tr>\n",
       "      <th>3</th>\n",
       "      <td>1</td>\n",
       "      <td>4</td>\n",
       "      <td>0.0007</td>\n",
       "      <td>0.0000</td>\n",
       "      <td>100.0</td>\n",
       "      <td>518.67</td>\n",
       "      <td>642.35</td>\n",
       "      <td>1582.79</td>\n",
       "      <td>1401.87</td>\n",
       "      <td>14.62</td>\n",
       "      <td>...</td>\n",
       "      <td>522.86</td>\n",
       "      <td>2388.08</td>\n",
       "      <td>8133.83</td>\n",
       "      <td>8.3682</td>\n",
       "      <td>0.03</td>\n",
       "      <td>392</td>\n",
       "      <td>2388</td>\n",
       "      <td>100.0</td>\n",
       "      <td>38.88</td>\n",
       "      <td>23.3739</td>\n",
       "    </tr>\n",
       "    <tr>\n",
       "      <th>4</th>\n",
       "      <td>1</td>\n",
       "      <td>5</td>\n",
       "      <td>-0.0019</td>\n",
       "      <td>-0.0002</td>\n",
       "      <td>100.0</td>\n",
       "      <td>518.67</td>\n",
       "      <td>642.37</td>\n",
       "      <td>1582.85</td>\n",
       "      <td>1406.22</td>\n",
       "      <td>14.62</td>\n",
       "      <td>...</td>\n",
       "      <td>522.19</td>\n",
       "      <td>2388.04</td>\n",
       "      <td>8133.80</td>\n",
       "      <td>8.4294</td>\n",
       "      <td>0.03</td>\n",
       "      <td>393</td>\n",
       "      <td>2388</td>\n",
       "      <td>100.0</td>\n",
       "      <td>38.90</td>\n",
       "      <td>23.4044</td>\n",
       "    </tr>\n",
       "  </tbody>\n",
       "</table>\n",
       "<p>5 rows × 26 columns</p>\n",
       "</div>"
      ],
      "text/plain": [
       "   id  cycle  setting1  setting2  setting3      s1      s2       s3       s4  \\\n",
       "0   1      1   -0.0007   -0.0004     100.0  518.67  641.82  1589.70  1400.60   \n",
       "1   1      2    0.0019   -0.0003     100.0  518.67  642.15  1591.82  1403.14   \n",
       "2   1      3   -0.0043    0.0003     100.0  518.67  642.35  1587.99  1404.20   \n",
       "3   1      4    0.0007    0.0000     100.0  518.67  642.35  1582.79  1401.87   \n",
       "4   1      5   -0.0019   -0.0002     100.0  518.67  642.37  1582.85  1406.22   \n",
       "\n",
       "      s5  ...     s12      s13      s14     s15   s16  s17   s18    s19  \\\n",
       "0  14.62  ...  521.66  2388.02  8138.62  8.4195  0.03  392  2388  100.0   \n",
       "1  14.62  ...  522.28  2388.07  8131.49  8.4318  0.03  392  2388  100.0   \n",
       "2  14.62  ...  522.42  2388.03  8133.23  8.4178  0.03  390  2388  100.0   \n",
       "3  14.62  ...  522.86  2388.08  8133.83  8.3682  0.03  392  2388  100.0   \n",
       "4  14.62  ...  522.19  2388.04  8133.80  8.4294  0.03  393  2388  100.0   \n",
       "\n",
       "     s20      s21  \n",
       "0  39.06  23.4190  \n",
       "1  39.00  23.4236  \n",
       "2  38.95  23.3442  \n",
       "3  38.88  23.3739  \n",
       "4  38.90  23.4044  \n",
       "\n",
       "[5 rows x 26 columns]"
      ]
     },
     "execution_count": 16,
     "metadata": {},
     "output_type": "execute_result"
    }
   ],
   "source": [
    "train_df.head()"
   ]
  },
  {
   "cell_type": "markdown",
   "id": "59f7aef2",
   "metadata": {},
   "source": [
    "Sensor should have non zero variance if it posseses hidden pattern with engine degradation. A sensor have zero variance across all enginer id's mean its either faulty or has no correlation with enginer degradation. We may choose to drop those sensors data."
   ]
  },
  {
   "cell_type": "code",
   "execution_count": 17,
   "id": "f91d0d02",
   "metadata": {},
   "outputs": [
    {
     "data": {
      "text/plain": [
       "id            5050.000000\n",
       "cycle       374135.833333\n",
       "setting1         0.000479\n",
       "setting2         0.000008\n",
       "setting3         0.000000\n",
       "s1               0.000000\n",
       "s2              21.645346\n",
       "s3            3380.073686\n",
       "s4            6695.408989\n",
       "s5               0.000000\n",
       "s6               0.000177\n",
       "s7              63.259996\n",
       "s8               0.344170\n",
       "s9           32804.346724\n",
       "s10              0.000000\n",
       "s11              5.761178\n",
       "s12             43.178846\n",
       "s13              0.352568\n",
       "s14          22489.617257\n",
       "s15              0.120145\n",
       "s16              0.000000\n",
       "s17            212.330447\n",
       "s18              0.000000\n",
       "s19              0.000000\n",
       "s20              2.799292\n",
       "s21              1.002310\n",
       "dtype: float64"
      ]
     },
     "execution_count": 17,
     "metadata": {},
     "output_type": "execute_result"
    }
   ],
   "source": [
    "var_group = train_df.groupby('id').var().reset_index()\n",
    "#print(var_group.head())\n",
    "var_group.sum()"
   ]
  },
  {
   "cell_type": "code",
   "execution_count": 18,
   "id": "a6d4b47a",
   "metadata": {},
   "outputs": [
    {
     "data": {
      "text/plain": [
       "[None, None, None, None, None, None, None]"
      ]
     },
     "execution_count": 18,
     "metadata": {},
     "output_type": "execute_result"
    },
    {
     "data": {
      "image/png": "[encoded data removed]",
      "text/plain": [
       "<Figure size 432x288 with 1 Axes>"
      ]
     },
     "metadata": {
      "needs_background": "dark"
     },
     "output_type": "display_data"
    }
   ],
   "source": [
    "# Setting3 and sensor 1,5,10,16,18,19 have zero variances across all engines. \n",
    "ax = var_group[['setting3','s1','s5','s10','s16','s18','s19']].plot(kind='line')\n",
    "#(var_group==0).any(axis=0)\n",
    "ax.set(facecolor=\"#A3EA90\")\n",
    "[t.set_color('w') for t in ax.xaxis.get_ticklabels()]\n",
    "[t.set_color('w') for t in ax.yaxis.get_ticklabels()]"
   ]
  },
  {
   "cell_type": "markdown",
   "id": "7482a678",
   "metadata": {},
   "source": [
    "We choose to drop the corresponding columns"
   ]
  },
  {
   "cell_type": "code",
   "execution_count": 19,
   "id": "1ec3583c",
   "metadata": {},
   "outputs": [
    {
     "data": {
      "text/html": [
       "<div>\n",
       "<style scoped>\n",
       "    .dataframe tbody tr th:only-of-type {\n",
       "        vertical-align: middle;\n",
       "    }\n",
       "\n",
       "    .dataframe tbody tr th {\n",
       "        vertical-align: top;\n",
       "    }\n",
       "\n",
       "    .dataframe thead th {\n",
       "        text-align: right;\n",
       "    }\n",
       "</style>\n",
       "<table border=\"1\" class=\"dataframe\">\n",
       "  <thead>\n",
       "    <tr style=\"text-align: right;\">\n",
       "      <th></th>\n",
       "      <th>id</th>\n",
       "      <th>cycle</th>\n",
       "      <th>setting1</th>\n",
       "      <th>setting2</th>\n",
       "      <th>s2</th>\n",
       "      <th>s3</th>\n",
       "      <th>s4</th>\n",
       "      <th>s6</th>\n",
       "      <th>s7</th>\n",
       "      <th>s8</th>\n",
       "      <th>s9</th>\n",
       "      <th>s11</th>\n",
       "      <th>s12</th>\n",
       "      <th>s13</th>\n",
       "      <th>s14</th>\n",
       "      <th>s15</th>\n",
       "      <th>s17</th>\n",
       "      <th>s20</th>\n",
       "      <th>s21</th>\n",
       "    </tr>\n",
       "  </thead>\n",
       "  <tbody>\n",
       "    <tr>\n",
       "      <th>0</th>\n",
       "      <td>1</td>\n",
       "      <td>1</td>\n",
       "      <td>-0.0007</td>\n",
       "      <td>-0.0004</td>\n",
       "      <td>641.82</td>\n",
       "      <td>1589.70</td>\n",
       "      <td>1400.60</td>\n",
       "      <td>21.61</td>\n",
       "      <td>554.36</td>\n",
       "      <td>2388.06</td>\n",
       "      <td>9046.19</td>\n",
       "      <td>47.47</td>\n",
       "      <td>521.66</td>\n",
       "      <td>2388.02</td>\n",
       "      <td>8138.62</td>\n",
       "      <td>8.4195</td>\n",
       "      <td>392</td>\n",
       "      <td>39.06</td>\n",
       "      <td>23.4190</td>\n",
       "    </tr>\n",
       "    <tr>\n",
       "      <th>1</th>\n",
       "      <td>1</td>\n",
       "      <td>2</td>\n",
       "      <td>0.0019</td>\n",
       "      <td>-0.0003</td>\n",
       "      <td>642.15</td>\n",
       "      <td>1591.82</td>\n",
       "      <td>1403.14</td>\n",
       "      <td>21.61</td>\n",
       "      <td>553.75</td>\n",
       "      <td>2388.04</td>\n",
       "      <td>9044.07</td>\n",
       "      <td>47.49</td>\n",
       "      <td>522.28</td>\n",
       "      <td>2388.07</td>\n",
       "      <td>8131.49</td>\n",
       "      <td>8.4318</td>\n",
       "      <td>392</td>\n",
       "      <td>39.00</td>\n",
       "      <td>23.4236</td>\n",
       "    </tr>\n",
       "    <tr>\n",
       "      <th>2</th>\n",
       "      <td>1</td>\n",
       "      <td>3</td>\n",
       "      <td>-0.0043</td>\n",
       "      <td>0.0003</td>\n",
       "      <td>642.35</td>\n",
       "      <td>1587.99</td>\n",
       "      <td>1404.20</td>\n",
       "      <td>21.61</td>\n",
       "      <td>554.26</td>\n",
       "      <td>2388.08</td>\n",
       "      <td>9052.94</td>\n",
       "      <td>47.27</td>\n",
       "      <td>522.42</td>\n",
       "      <td>2388.03</td>\n",
       "      <td>8133.23</td>\n",
       "      <td>8.4178</td>\n",
       "      <td>390</td>\n",
       "      <td>38.95</td>\n",
       "      <td>23.3442</td>\n",
       "    </tr>\n",
       "    <tr>\n",
       "      <th>3</th>\n",
       "      <td>1</td>\n",
       "      <td>4</td>\n",
       "      <td>0.0007</td>\n",
       "      <td>0.0000</td>\n",
       "      <td>642.35</td>\n",
       "      <td>1582.79</td>\n",
       "      <td>1401.87</td>\n",
       "      <td>21.61</td>\n",
       "      <td>554.45</td>\n",
       "      <td>2388.11</td>\n",
       "      <td>9049.48</td>\n",
       "      <td>47.13</td>\n",
       "      <td>522.86</td>\n",
       "      <td>2388.08</td>\n",
       "      <td>8133.83</td>\n",
       "      <td>8.3682</td>\n",
       "      <td>392</td>\n",
       "      <td>38.88</td>\n",
       "      <td>23.3739</td>\n",
       "    </tr>\n",
       "    <tr>\n",
       "      <th>4</th>\n",
       "      <td>1</td>\n",
       "      <td>5</td>\n",
       "      <td>-0.0019</td>\n",
       "      <td>-0.0002</td>\n",
       "      <td>642.37</td>\n",
       "      <td>1582.85</td>\n",
       "      <td>1406.22</td>\n",
       "      <td>21.61</td>\n",
       "      <td>554.00</td>\n",
       "      <td>2388.06</td>\n",
       "      <td>9055.15</td>\n",
       "      <td>47.28</td>\n",
       "      <td>522.19</td>\n",
       "      <td>2388.04</td>\n",
       "      <td>8133.80</td>\n",
       "      <td>8.4294</td>\n",
       "      <td>393</td>\n",
       "      <td>38.90</td>\n",
       "      <td>23.4044</td>\n",
       "    </tr>\n",
       "  </tbody>\n",
       "</table>\n",
       "</div>"
      ],
      "text/plain": [
       "   id  cycle  setting1  setting2      s2       s3       s4     s6      s7  \\\n",
       "0   1      1   -0.0007   -0.0004  641.82  1589.70  1400.60  21.61  554.36   \n",
       "1   1      2    0.0019   -0.0003  642.15  1591.82  1403.14  21.61  553.75   \n",
       "2   1      3   -0.0043    0.0003  642.35  1587.99  1404.20  21.61  554.26   \n",
       "3   1      4    0.0007    0.0000  642.35  1582.79  1401.87  21.61  554.45   \n",
       "4   1      5   -0.0019   -0.0002  642.37  1582.85  1406.22  21.61  554.00   \n",
       "\n",
       "        s8       s9    s11     s12      s13      s14     s15  s17    s20  \\\n",
       "0  2388.06  9046.19  47.47  521.66  2388.02  8138.62  8.4195  392  39.06   \n",
       "1  2388.04  9044.07  47.49  522.28  2388.07  8131.49  8.4318  392  39.00   \n",
       "2  2388.08  9052.94  47.27  522.42  2388.03  8133.23  8.4178  390  38.95   \n",
       "3  2388.11  9049.48  47.13  522.86  2388.08  8133.83  8.3682  392  38.88   \n",
       "4  2388.06  9055.15  47.28  522.19  2388.04  8133.80  8.4294  393  38.90   \n",
       "\n",
       "       s21  \n",
       "0  23.4190  \n",
       "1  23.4236  \n",
       "2  23.3442  \n",
       "3  23.3739  \n",
       "4  23.4044  "
      ]
     },
     "execution_count": 19,
     "metadata": {},
     "output_type": "execute_result"
    }
   ],
   "source": [
    "train_df = train_df.drop(['setting3','s1','s5','s10','s16','s18','s19'],axis=1)\n",
    "train_df.head()"
   ]
  },
  {
   "cell_type": "markdown",
   "id": "8efb74bd",
   "metadata": {},
   "source": [
    "Setting2 and s6 have way too low variance and may be dropped too. For now we will use but we will adress it again after we see the final results."
   ]
  },
  {
   "cell_type": "code",
   "execution_count": 20,
   "id": "160c8a83",
   "metadata": {},
   "outputs": [
    {
     "data": {
      "text/plain": [
       "[None, None, None, None, None, None, None]"
      ]
     },
     "execution_count": 20,
     "metadata": {},
     "output_type": "execute_result"
    },
    {
     "data": {
      "image/png": "[encoded data removed]",
      "text/plain": [
       "<Figure size 432x288 with 1 Axes>"
      ]
     },
     "metadata": {
      "needs_background": "dark"
     },
     "output_type": "display_data"
    }
   ],
   "source": [
    "# No NaNs. \n",
    "ax = train_df.isna().sum().plot(kind='line')\n",
    "ax.set(facecolor=\"#A3EA90\")\n",
    "[t.set_color('w') for t in ax.xaxis.get_ticklabels()]\n",
    "[t.set_color('w') for t in ax.yaxis.get_ticklabels()]"
   ]
  },
  {
   "cell_type": "code",
   "execution_count": 21,
   "id": "aa718319",
   "metadata": {},
   "outputs": [
    {
     "name": "stdout",
     "output_type": "stream",
     "text": [
      "id            5050.000000\n",
      "cycle       167708.500000\n",
      "setting1         0.000485\n",
      "setting2         0.000008\n",
      "setting3         0.000000\n",
      "s1               0.000000\n",
      "s2              11.329447\n",
      "s3            1954.111320\n",
      "s4            2564.445618\n",
      "s5               0.000000\n",
      "s6               0.000277\n",
      "s7              25.480034\n",
      "s8               0.146950\n",
      "s9            4760.482911\n",
      "s10              0.000000\n",
      "s11              1.918003\n",
      "s12             15.958121\n",
      "s13              0.146322\n",
      "s14           3031.714945\n",
      "s15              0.054525\n",
      "s16              0.000000\n",
      "s17            111.495693\n",
      "s18              0.000000\n",
      "s19              0.000000\n",
      "s20              1.346277\n",
      "s21              0.472412\n",
      "dtype: float64\n"
     ]
    },
    {
     "data": {
      "text/plain": [
       "[None, None, None, None, None, None, None]"
      ]
     },
     "execution_count": 21,
     "metadata": {},
     "output_type": "execute_result"
    },
    {
     "data": {
      "image/png": "[encoded data removed]",
      "text/plain": [
       "<Figure size 432x288 with 1 Axes>"
      ]
     },
     "metadata": {
      "needs_background": "dark"
     },
     "output_type": "display_data"
    }
   ],
   "source": [
    "# Do the same for test data. We find the same senors data qualify again to be dropped.\n",
    "\n",
    "var_group = test_df.groupby('id').var().reset_index()\n",
    "#print(var_group.head())\n",
    "print(var_group.sum())\n",
    "\n",
    "# Setting3 and sensor 1,5,10,16,18,19 have zero variances across all engines. \n",
    "ax = var_group[['setting3','s1','s5','s10','s16','s18','s19']].plot(kind='line')\n",
    "#(var_group==0).any(axis=0)\n",
    "ax.set(facecolor=\"#A3EA90\")\n",
    "[t.set_color('w') for t in ax.xaxis.get_ticklabels()]\n",
    "[t.set_color('w') for t in ax.yaxis.get_ticklabels()]"
   ]
  },
  {
   "cell_type": "code",
   "execution_count": 22,
   "id": "3d546778",
   "metadata": {},
   "outputs": [
    {
     "data": {
      "text/plain": [
       "[None, None, None, None, None, None, None]"
      ]
     },
     "execution_count": 22,
     "metadata": {},
     "output_type": "execute_result"
    },
    {
     "data": {
      "image/png": "[encoded data removed]",
      "text/plain": [
       "<Figure size 432x288 with 1 Axes>"
      ]
     },
     "metadata": {
      "needs_background": "dark"
     },
     "output_type": "display_data"
    }
   ],
   "source": [
    "test_df = test_df.drop(['setting3','s1','s5','s10','s16','s18','s19'],axis=1)\n",
    "\n",
    "# And No NaNs. \n",
    "ax = test_df.isna().sum().plot(kind='line')\n",
    "ax.set(facecolor=\"#A3EA90\")\n",
    "[t.set_color('w') for t in ax.xaxis.get_ticklabels()]\n",
    "[t.set_color('w') for t in ax.yaxis.get_ticklabels()]"
   ]
  },
  {
   "cell_type": "markdown",
   "id": "184bf7f3",
   "metadata": {},
   "source": [
    "## Predictive maintenance questions and data labeling\n",
    "\n",
    "Given the data, can we predict when an in service engine will fail?. This falls \n",
    "- To predict the remaining useful life (RUL) in-terms of cycles of the in-service engine.\n",
    "- To predict if an in-service engine fails within next 'w1' cycles (binary classification). We will call it label1.\n",
    "- To predict if an an engine will fail within between (w0,w1) cycles (multiclass classification). Note w0 < w1. we will call it label2."
   ]
  },
  {
   "cell_type": "markdown",
   "id": "b7867af2",
   "metadata": {},
   "source": [
    "### Training data preparation\n",
    "\n",
    "remaining useful life RUL for a given engine will be calulated as the difference of max cycle of given engine-id and the current cycle. \n",
    "for label1 and label2 we pick values for w0 and w1 such that w0<w1. label1 will be equal to 1 if cycle is less then w1 else 0. label2 will be equal to label1 except when cycle < w0, in that case it will take value 2. "
   ]
  },
  {
   "cell_type": "code",
   "execution_count": 23,
   "id": "952d15bb",
   "metadata": {},
   "outputs": [
    {
     "data": {
      "text/plain": [
       "[None, None, None, None, None, None, None, None, None, None, None]"
      ]
     },
     "execution_count": 23,
     "metadata": {},
     "output_type": "execute_result"
    },
    {
     "data": {
      "image/png": "[encoded data removed]",
      "text/plain": [
       "<Figure size 432x288 with 1 Axes>"
      ]
     },
     "metadata": {
      "needs_background": "dark"
     },
     "output_type": "display_data"
    }
   ],
   "source": [
    "# calculate column 'RUL'\n",
    "rul = pd.DataFrame(train_df.groupby('id')['cycle'].max()).reset_index()\n",
    "rul.columns = ['id', 'max']\n",
    "train_df = train_df.merge(rul, on=['id'], how='left')\n",
    "train_df['RUL'] = train_df['max'] - train_df['cycle']\n",
    "ax = train_df[train_df.id==1][['RUL']].plot(kind='line')\n",
    "plt.title('RUL for engine, id = 1')\n",
    "train_df.drop('max', axis=1, inplace=True)\n",
    "ax.set(facecolor=\"#A3EA90\")\n",
    "[t.set_color('w') for t in ax.xaxis.get_ticklabels()]\n",
    "[t.set_color('w') for t in ax.yaxis.get_ticklabels()]"
   ]
  },
  {
   "cell_type": "code",
   "execution_count": 24,
   "id": "0565c51f",
   "metadata": {},
   "outputs": [
    {
     "data": {
      "text/html": [
       "<div>\n",
       "<style scoped>\n",
       "    .dataframe tbody tr th:only-of-type {\n",
       "        vertical-align: middle;\n",
       "    }\n",
       "\n",
       "    .dataframe tbody tr th {\n",
       "        vertical-align: top;\n",
       "    }\n",
       "\n",
       "    .dataframe thead th {\n",
       "        text-align: right;\n",
       "    }\n",
       "</style>\n",
       "<table border=\"1\" class=\"dataframe\">\n",
       "  <thead>\n",
       "    <tr style=\"text-align: right;\">\n",
       "      <th></th>\n",
       "      <th>id</th>\n",
       "      <th>cycle</th>\n",
       "      <th>setting1</th>\n",
       "      <th>setting2</th>\n",
       "      <th>s2</th>\n",
       "      <th>s3</th>\n",
       "      <th>s4</th>\n",
       "      <th>s6</th>\n",
       "      <th>s7</th>\n",
       "      <th>s8</th>\n",
       "      <th>...</th>\n",
       "      <th>s12</th>\n",
       "      <th>s13</th>\n",
       "      <th>s14</th>\n",
       "      <th>s15</th>\n",
       "      <th>s17</th>\n",
       "      <th>s20</th>\n",
       "      <th>s21</th>\n",
       "      <th>RUL</th>\n",
       "      <th>label1</th>\n",
       "      <th>label2</th>\n",
       "    </tr>\n",
       "  </thead>\n",
       "  <tbody>\n",
       "    <tr>\n",
       "      <th>0</th>\n",
       "      <td>1</td>\n",
       "      <td>1</td>\n",
       "      <td>-0.0007</td>\n",
       "      <td>-0.0004</td>\n",
       "      <td>641.82</td>\n",
       "      <td>1589.70</td>\n",
       "      <td>1400.60</td>\n",
       "      <td>21.61</td>\n",
       "      <td>554.36</td>\n",
       "      <td>2388.06</td>\n",
       "      <td>...</td>\n",
       "      <td>521.66</td>\n",
       "      <td>2388.02</td>\n",
       "      <td>8138.62</td>\n",
       "      <td>8.4195</td>\n",
       "      <td>392</td>\n",
       "      <td>39.06</td>\n",
       "      <td>23.4190</td>\n",
       "      <td>191</td>\n",
       "      <td>0</td>\n",
       "      <td>0</td>\n",
       "    </tr>\n",
       "    <tr>\n",
       "      <th>1</th>\n",
       "      <td>1</td>\n",
       "      <td>2</td>\n",
       "      <td>0.0019</td>\n",
       "      <td>-0.0003</td>\n",
       "      <td>642.15</td>\n",
       "      <td>1591.82</td>\n",
       "      <td>1403.14</td>\n",
       "      <td>21.61</td>\n",
       "      <td>553.75</td>\n",
       "      <td>2388.04</td>\n",
       "      <td>...</td>\n",
       "      <td>522.28</td>\n",
       "      <td>2388.07</td>\n",
       "      <td>8131.49</td>\n",
       "      <td>8.4318</td>\n",
       "      <td>392</td>\n",
       "      <td>39.00</td>\n",
       "      <td>23.4236</td>\n",
       "      <td>190</td>\n",
       "      <td>0</td>\n",
       "      <td>0</td>\n",
       "    </tr>\n",
       "    <tr>\n",
       "      <th>2</th>\n",
       "      <td>1</td>\n",
       "      <td>3</td>\n",
       "      <td>-0.0043</td>\n",
       "      <td>0.0003</td>\n",
       "      <td>642.35</td>\n",
       "      <td>1587.99</td>\n",
       "      <td>1404.20</td>\n",
       "      <td>21.61</td>\n",
       "      <td>554.26</td>\n",
       "      <td>2388.08</td>\n",
       "      <td>...</td>\n",
       "      <td>522.42</td>\n",
       "      <td>2388.03</td>\n",
       "      <td>8133.23</td>\n",
       "      <td>8.4178</td>\n",
       "      <td>390</td>\n",
       "      <td>38.95</td>\n",
       "      <td>23.3442</td>\n",
       "      <td>189</td>\n",
       "      <td>0</td>\n",
       "      <td>0</td>\n",
       "    </tr>\n",
       "    <tr>\n",
       "      <th>3</th>\n",
       "      <td>1</td>\n",
       "      <td>4</td>\n",
       "      <td>0.0007</td>\n",
       "      <td>0.0000</td>\n",
       "      <td>642.35</td>\n",
       "      <td>1582.79</td>\n",
       "      <td>1401.87</td>\n",
       "      <td>21.61</td>\n",
       "      <td>554.45</td>\n",
       "      <td>2388.11</td>\n",
       "      <td>...</td>\n",
       "      <td>522.86</td>\n",
       "      <td>2388.08</td>\n",
       "      <td>8133.83</td>\n",
       "      <td>8.3682</td>\n",
       "      <td>392</td>\n",
       "      <td>38.88</td>\n",
       "      <td>23.3739</td>\n",
       "      <td>188</td>\n",
       "      <td>0</td>\n",
       "      <td>0</td>\n",
       "    </tr>\n",
       "    <tr>\n",
       "      <th>4</th>\n",
       "      <td>1</td>\n",
       "      <td>5</td>\n",
       "      <td>-0.0019</td>\n",
       "      <td>-0.0002</td>\n",
       "      <td>642.37</td>\n",
       "      <td>1582.85</td>\n",
       "      <td>1406.22</td>\n",
       "      <td>21.61</td>\n",
       "      <td>554.00</td>\n",
       "      <td>2388.06</td>\n",
       "      <td>...</td>\n",
       "      <td>522.19</td>\n",
       "      <td>2388.04</td>\n",
       "      <td>8133.80</td>\n",
       "      <td>8.4294</td>\n",
       "      <td>393</td>\n",
       "      <td>38.90</td>\n",
       "      <td>23.4044</td>\n",
       "      <td>187</td>\n",
       "      <td>0</td>\n",
       "      <td>0</td>\n",
       "    </tr>\n",
       "  </tbody>\n",
       "</table>\n",
       "<p>5 rows × 22 columns</p>\n",
       "</div>"
      ],
      "text/plain": [
       "   id  cycle  setting1  setting2      s2       s3       s4     s6      s7  \\\n",
       "0   1      1   -0.0007   -0.0004  641.82  1589.70  1400.60  21.61  554.36   \n",
       "1   1      2    0.0019   -0.0003  642.15  1591.82  1403.14  21.61  553.75   \n",
       "2   1      3   -0.0043    0.0003  642.35  1587.99  1404.20  21.61  554.26   \n",
       "3   1      4    0.0007    0.0000  642.35  1582.79  1401.87  21.61  554.45   \n",
       "4   1      5   -0.0019   -0.0002  642.37  1582.85  1406.22  21.61  554.00   \n",
       "\n",
       "        s8  ...     s12      s13      s14     s15  s17    s20      s21  RUL  \\\n",
       "0  2388.06  ...  521.66  2388.02  8138.62  8.4195  392  39.06  23.4190  191   \n",
       "1  2388.04  ...  522.28  2388.07  8131.49  8.4318  392  39.00  23.4236  190   \n",
       "2  2388.08  ...  522.42  2388.03  8133.23  8.4178  390  38.95  23.3442  189   \n",
       "3  2388.11  ...  522.86  2388.08  8133.83  8.3682  392  38.88  23.3739  188   \n",
       "4  2388.06  ...  522.19  2388.04  8133.80  8.4294  393  38.90  23.4044  187   \n",
       "\n",
       "   label1  label2  \n",
       "0       0       0  \n",
       "1       0       0  \n",
       "2       0       0  \n",
       "3       0       0  \n",
       "4       0       0  \n",
       "\n",
       "[5 rows x 22 columns]"
      ]
     },
     "execution_count": 24,
     "metadata": {},
     "output_type": "execute_result"
    }
   ],
   "source": [
    "# General label1 and label2 columns\n",
    "w1 = 30\n",
    "w0 = 15\n",
    "train_df['label1'] = np.where(train_df['RUL'] <= w1, 1, 0 )\n",
    "train_df['label2'] = train_df['label1']\n",
    "train_df.loc[train_df['RUL'] <= w0, 'label2'] = 2\n",
    "train_df.head()"
   ]
  },
  {
   "cell_type": "markdown",
   "id": "a265363f",
   "metadata": {},
   "source": [
    "Normalize all training data except RUL, id and labels. cycle column will also be included in training and therefore will be normalized"
   ]
  },
  {
   "cell_type": "code",
   "execution_count": 25,
   "id": "e218378e",
   "metadata": {},
   "outputs": [],
   "source": [
    "train_df['cycle_norm'] = train_df['cycle']\n",
    "cols_normalize = train_df.columns.difference(['id','cycle','RUL','label1','label2'])\n",
    "min_max_scaler = preprocessing.MinMaxScaler()\n",
    "norm_train_df = pd.DataFrame(min_max_scaler.fit_transform(train_df[cols_normalize]), \n",
    "                             columns=cols_normalize, \n",
    "                             index=train_df.index)\n",
    "join_df = train_df[train_df.columns.difference(cols_normalize)].join(norm_train_df)\n",
    "train_df = join_df.reindex(columns = train_df.columns)"
   ]
  },
  {
   "cell_type": "markdown",
   "id": "5718d4c4",
   "metadata": {},
   "source": [
    "### Preparing test data\n",
    "\n",
    "Test must use ground truth data to calculate RUL and the two label columns as explained the remaining working cycles for a given engine is not included in test data but in ground truth data."
   ]
  },
  {
   "cell_type": "code",
   "execution_count": 26,
   "id": "88149a0c",
   "metadata": {},
   "outputs": [],
   "source": [
    "# MinMax Normalization similar to training data normalization\n",
    "test_df['cycle_norm'] = test_df['cycle']\n",
    "norm_test_df = pd.DataFrame(min_max_scaler.transform(test_df[cols_normalize]), \n",
    "                            columns=cols_normalize, \n",
    "                            index=test_df.index)\n",
    "test_join_df = test_df[test_df.columns.difference(cols_normalize)].join(norm_test_df)\n",
    "test_df = test_join_df.reindex(columns = test_df.columns)\n",
    "test_df = test_df.reset_index(drop=True)"
   ]
  },
  {
   "cell_type": "code",
   "execution_count": 28,
   "id": "95ee17fa",
   "metadata": {},
   "outputs": [],
   "source": [
    "# Generate RUL and 2 lebel columns\n",
    "# generate column max for test data\n",
    "rul = pd.DataFrame(test_df.groupby('id')['cycle'].max()).reset_index()\n",
    "rul.columns = ['id', 'max']\n",
    "truth_df.columns = ['more']\n",
    "truth_df['id'] = truth_df.index + 1\n",
    "truth_df['max'] = rul['max'] + truth_df['more']\n",
    "truth_df.drop('more', axis=1, inplace=True)"
   ]
  },
  {
   "cell_type": "code",
   "execution_count": 29,
   "id": "784784ff",
   "metadata": {},
   "outputs": [],
   "source": [
    "# generate RUL for test data\n",
    "test_df = test_df.merge(truth_df, on=['id'], how='left')\n",
    "test_df['RUL'] = test_df['max'] - test_df['cycle']\n",
    "test_df.drop('max', axis=1, inplace=True)"
   ]
  },
  {
   "cell_type": "code",
   "execution_count": 30,
   "id": "d159e1a8",
   "metadata": {},
   "outputs": [
    {
     "data": {
      "text/html": [
       "<div>\n",
       "<style scoped>\n",
       "    .dataframe tbody tr th:only-of-type {\n",
       "        vertical-align: middle;\n",
       "    }\n",
       "\n",
       "    .dataframe tbody tr th {\n",
       "        vertical-align: top;\n",
       "    }\n",
       "\n",
       "    .dataframe thead th {\n",
       "        text-align: right;\n",
       "    }\n",
       "</style>\n",
       "<table border=\"1\" class=\"dataframe\">\n",
       "  <thead>\n",
       "    <tr style=\"text-align: right;\">\n",
       "      <th></th>\n",
       "      <th>id</th>\n",
       "      <th>cycle</th>\n",
       "      <th>setting1</th>\n",
       "      <th>setting2</th>\n",
       "      <th>s2</th>\n",
       "      <th>s3</th>\n",
       "      <th>s4</th>\n",
       "      <th>s6</th>\n",
       "      <th>s7</th>\n",
       "      <th>s8</th>\n",
       "      <th>...</th>\n",
       "      <th>s13</th>\n",
       "      <th>s14</th>\n",
       "      <th>s15</th>\n",
       "      <th>s17</th>\n",
       "      <th>s20</th>\n",
       "      <th>s21</th>\n",
       "      <th>cycle_norm</th>\n",
       "      <th>RUL</th>\n",
       "      <th>label1</th>\n",
       "      <th>label2</th>\n",
       "    </tr>\n",
       "  </thead>\n",
       "  <tbody>\n",
       "    <tr>\n",
       "      <th>0</th>\n",
       "      <td>1</td>\n",
       "      <td>1</td>\n",
       "      <td>0.632184</td>\n",
       "      <td>0.750000</td>\n",
       "      <td>0.545181</td>\n",
       "      <td>0.310661</td>\n",
       "      <td>0.269413</td>\n",
       "      <td>1.0</td>\n",
       "      <td>0.652174</td>\n",
       "      <td>0.212121</td>\n",
       "      <td>...</td>\n",
       "      <td>0.220588</td>\n",
       "      <td>0.132160</td>\n",
       "      <td>0.308965</td>\n",
       "      <td>0.333333</td>\n",
       "      <td>0.558140</td>\n",
       "      <td>0.661834</td>\n",
       "      <td>0.00000</td>\n",
       "      <td>142</td>\n",
       "      <td>0</td>\n",
       "      <td>0</td>\n",
       "    </tr>\n",
       "    <tr>\n",
       "      <th>1</th>\n",
       "      <td>1</td>\n",
       "      <td>2</td>\n",
       "      <td>0.344828</td>\n",
       "      <td>0.250000</td>\n",
       "      <td>0.150602</td>\n",
       "      <td>0.379551</td>\n",
       "      <td>0.222316</td>\n",
       "      <td>1.0</td>\n",
       "      <td>0.805153</td>\n",
       "      <td>0.166667</td>\n",
       "      <td>...</td>\n",
       "      <td>0.264706</td>\n",
       "      <td>0.204768</td>\n",
       "      <td>0.213159</td>\n",
       "      <td>0.416667</td>\n",
       "      <td>0.682171</td>\n",
       "      <td>0.686827</td>\n",
       "      <td>0.00277</td>\n",
       "      <td>141</td>\n",
       "      <td>0</td>\n",
       "      <td>0</td>\n",
       "    </tr>\n",
       "    <tr>\n",
       "      <th>2</th>\n",
       "      <td>1</td>\n",
       "      <td>3</td>\n",
       "      <td>0.517241</td>\n",
       "      <td>0.583333</td>\n",
       "      <td>0.376506</td>\n",
       "      <td>0.346632</td>\n",
       "      <td>0.322248</td>\n",
       "      <td>1.0</td>\n",
       "      <td>0.685990</td>\n",
       "      <td>0.227273</td>\n",
       "      <td>...</td>\n",
       "      <td>0.220588</td>\n",
       "      <td>0.155640</td>\n",
       "      <td>0.458638</td>\n",
       "      <td>0.416667</td>\n",
       "      <td>0.728682</td>\n",
       "      <td>0.721348</td>\n",
       "      <td>0.00554</td>\n",
       "      <td>140</td>\n",
       "      <td>0</td>\n",
       "      <td>0</td>\n",
       "    </tr>\n",
       "    <tr>\n",
       "      <th>3</th>\n",
       "      <td>1</td>\n",
       "      <td>4</td>\n",
       "      <td>0.741379</td>\n",
       "      <td>0.500000</td>\n",
       "      <td>0.370482</td>\n",
       "      <td>0.285154</td>\n",
       "      <td>0.408001</td>\n",
       "      <td>1.0</td>\n",
       "      <td>0.679549</td>\n",
       "      <td>0.196970</td>\n",
       "      <td>...</td>\n",
       "      <td>0.250000</td>\n",
       "      <td>0.170090</td>\n",
       "      <td>0.257022</td>\n",
       "      <td>0.250000</td>\n",
       "      <td>0.666667</td>\n",
       "      <td>0.662110</td>\n",
       "      <td>0.00831</td>\n",
       "      <td>139</td>\n",
       "      <td>0</td>\n",
       "      <td>0</td>\n",
       "    </tr>\n",
       "    <tr>\n",
       "      <th>4</th>\n",
       "      <td>1</td>\n",
       "      <td>5</td>\n",
       "      <td>0.580460</td>\n",
       "      <td>0.500000</td>\n",
       "      <td>0.391566</td>\n",
       "      <td>0.352082</td>\n",
       "      <td>0.332039</td>\n",
       "      <td>1.0</td>\n",
       "      <td>0.694042</td>\n",
       "      <td>0.166667</td>\n",
       "      <td>...</td>\n",
       "      <td>0.220588</td>\n",
       "      <td>0.152751</td>\n",
       "      <td>0.300885</td>\n",
       "      <td>0.166667</td>\n",
       "      <td>0.658915</td>\n",
       "      <td>0.716377</td>\n",
       "      <td>0.01108</td>\n",
       "      <td>138</td>\n",
       "      <td>0</td>\n",
       "      <td>0</td>\n",
       "    </tr>\n",
       "  </tbody>\n",
       "</table>\n",
       "<p>5 rows × 23 columns</p>\n",
       "</div>"
      ],
      "text/plain": [
       "   id  cycle  setting1  setting2        s2        s3        s4   s6        s7  \\\n",
       "0   1      1  0.632184  0.750000  0.545181  0.310661  0.269413  1.0  0.652174   \n",
       "1   1      2  0.344828  0.250000  0.150602  0.379551  0.222316  1.0  0.805153   \n",
       "2   1      3  0.517241  0.583333  0.376506  0.346632  0.322248  1.0  0.685990   \n",
       "3   1      4  0.741379  0.500000  0.370482  0.285154  0.408001  1.0  0.679549   \n",
       "4   1      5  0.580460  0.500000  0.391566  0.352082  0.332039  1.0  0.694042   \n",
       "\n",
       "         s8  ...       s13       s14       s15       s17       s20       s21  \\\n",
       "0  0.212121  ...  0.220588  0.132160  0.308965  0.333333  0.558140  0.661834   \n",
       "1  0.166667  ...  0.264706  0.204768  0.213159  0.416667  0.682171  0.686827   \n",
       "2  0.227273  ...  0.220588  0.155640  0.458638  0.416667  0.728682  0.721348   \n",
       "3  0.196970  ...  0.250000  0.170090  0.257022  0.250000  0.666667  0.662110   \n",
       "4  0.166667  ...  0.220588  0.152751  0.300885  0.166667  0.658915  0.716377   \n",
       "\n",
       "   cycle_norm  RUL  label1  label2  \n",
       "0     0.00000  142       0       0  \n",
       "1     0.00277  141       0       0  \n",
       "2     0.00554  140       0       0  \n",
       "3     0.00831  139       0       0  \n",
       "4     0.01108  138       0       0  \n",
       "\n",
       "[5 rows x 23 columns]"
      ]
     },
     "execution_count": 30,
     "metadata": {},
     "output_type": "execute_result"
    }
   ],
   "source": [
    "# generate label columns w0 and w1 for test data\n",
    "test_df['label1'] = np.where(test_df['RUL'] <= w1, 1, 0 )\n",
    "test_df['label2'] = test_df['label1']\n",
    "test_df.loc[test_df['RUL'] <= w0, 'label2'] = 2\n",
    "test_df.head()"
   ]
  },
  {
   "cell_type": "markdown",
   "id": "3943e07c",
   "metadata": {},
   "source": [
    "# Modeling\n",
    "LSTM uses time-series domain as length of time window to look back and extract feature out of the sequence of 21 sensors     data. This is an automatic feature engineering instead of manual feature engineering. Manual feature engineering is based on the domain knowledge which may add value in explaining the model results. LSTM will endcode the pattern if there is one between the the sensor data in the given time window and the failure. LSTM has the ability to remember from long term window sizes which is hard to achieve with traditional feature engineering.\n",
    "\n",
    "We are choosing LSTM because we want to capture long pattens to achieve high accuracy. This will come at cost higher computation cost but it's not a point of concern at this point."
   ]
  },
  {
   "cell_type": "code",
   "execution_count": null,
   "id": "4b086627",
   "metadata": {},
   "outputs": [],
   "source": []
  },
  {
   "cell_type": "markdown",
   "id": "5bd70a04",
   "metadata": {},
   "source": [
    "<br>\n",
    "<br>\n",
    "<br>\n",
    "<br>\n",
    "<br>\n",
    "\n",
    "\n",
    "\n",
    "# <span style='color:Blue'> Multiclass classification problem </span>\n",
    "\n",
    "To predict if an in-service engine fails within next 'w1' cycles (binary classification). "
   ]
  },
  {
   "cell_type": "code",
   "execution_count": 31,
   "id": "e030d503",
   "metadata": {},
   "outputs": [],
   "source": [
    "# The first step is to define the time window, how far do we want to look into the past. \n",
    "# LSTM will use this to keep the patterns from this time window in its memory. \n",
    "# LSTM normally doesn't like sequence length more than 200-400. \n",
    "sequence_length = 50  \n",
    "# here 50 represnts time in terms of the number of cycles"
   ]
  },
  {
   "cell_type": "markdown",
   "id": "38ef6eda",
   "metadata": {},
   "source": [
    "#### Explaining LSTM inputs\n",
    "\n",
    "Every layer of LSTM expects three-dimensional input matrix which also sometime referred as matrix of two dimensional sequences where one sequence is a 2D matrix of all features data or slice of the data within a given time window (sequence length). So, the three dimensions represents \n",
    "\n",
    "- **samples:** One sequence is one sample.\n",
    "- **Time steps:** Defined time window also called sequence length indicating how far in past the network should keep the memory.\n",
    "- **Features**\n",
    "\n",
    "Our sequences will be overlapping reflecting sliding time window with increment 1 over data. Sliding windows approach will introduced highly dependent sequences that may introduce overfit. Increasing increment may reduce the the dependency but does not assure indenpedence. Sliding windows approach however is good in situations where data is not rich. We will address the overfitting issue by introducing dropout layers after all layers with return_sequences = True. "
   ]
  },
  {
   "cell_type": "code",
   "execution_count": 32,
   "id": "b54469c1",
   "metadata": {},
   "outputs": [
    {
     "name": "stdout",
     "output_type": "stream",
     "text": [
      "Dimension of sequence array is: (15631, 50, 26)  :Last index represents the total number of features and middle index of for the length of sequence\n"
     ]
    }
   ],
   "source": [
    "# pick the feature columns and generate sequences both for X and labels\n",
    "sensor_cols = list(train_df.columns)\n",
    "sequence_cols = ['setting1', 'setting2', 'cycle_norm']\n",
    "sequence_cols.extend(sensor_cols)\n",
    "\n",
    "# generator for the sequences\n",
    "seq_gen = (list(gen_sequence(train_df[train_df['id']==id], sequence_length, sequence_cols)) \n",
    "           for id in train_df['id'].unique())\n",
    "\n",
    "# generate sequences and convert to numpy array\n",
    "seq_array = np.concatenate(list(seq_gen)).astype(np.float32)\n",
    "print('Dimension of sequence array is:', seq_array.shape,' :Last index represents the total number of features and middle index of for the length of sequence')"
   ]
  },
  {
   "cell_type": "code",
   "execution_count": 33,
   "id": "46e36422",
   "metadata": {},
   "outputs": [
    {
     "name": "stdout",
     "output_type": "stream",
     "text": [
      "Dimension of label array is: (15631, 3)\n"
     ]
    }
   ],
   "source": [
    "# generate labels\n",
    "label_gen = [gen_labels(train_df[train_df['id']==id], sequence_length, ['label2']) \n",
    "             for id in train_df['id'].unique()]\n",
    "label_array = np.concatenate(label_gen).astype(np.float32)\n",
    "label_array3D = to_categorical(label_array)\n",
    "print('Dimension of label array is:', label_array3D.shape)\n"
   ]
  },
  {
   "cell_type": "markdown",
   "id": "be9ce74c",
   "metadata": {},
   "source": [
    "### LSTM Network\n",
    "Next, we build a deep network. The first layer is an LSTM layer with 100 units followed by another LSTM layer\n",
    "with 50 units. Dropout is also applied after each LSTM layer to control overfitting. Final layer is a Dense \n",
    "output layer with single unit and sigmoid activation since this is a binary classification problem.\n",
    "We choose LSTM over GRU since accuracy is concerned and memory is not."
   ]
  },
  {
   "cell_type": "code",
   "execution_count": 89,
   "id": "d5020195",
   "metadata": {},
   "outputs": [
    {
     "name": "stdout",
     "output_type": "stream",
     "text": [
      "Model: \"sequential_8\"\n",
      "_________________________________________________________________\n",
      "Layer (type)                 Output Shape              Param #   \n",
      "=================================================================\n",
      "lstm_24 (LSTM)               (None, 50, 100)           50800     \n",
      "_________________________________________________________________\n",
      "lstm_25 (LSTM)               (None, 50, 50)            30200     \n",
      "_________________________________________________________________\n",
      "dropout_20 (Dropout)         (None, 50, 50)            0         \n",
      "_________________________________________________________________\n",
      "lstm_26 (LSTM)               (None, 25)                7600      \n",
      "_________________________________________________________________\n",
      "dense_8 (Dense)              (None, 3)                 78        \n",
      "=================================================================\n",
      "Total params: 88,678\n",
      "Trainable params: 88,678\n",
      "Non-trainable params: 0\n",
      "_________________________________________________________________\n",
      "None\n",
      "3\n"
     ]
    }
   ],
   "source": [
    "# build the network\n",
    "history = History()\n",
    "nb_features = seq_array.shape[2]\n",
    "nb_out = label_array3D.shape[1]\n",
    "\n",
    "model = Sequential()\n",
    "\n",
    "#model.add(Dropout(0.5,input_shape=(sequence_length, nb_features)))\n",
    "\n",
    "model.add(LSTM(\n",
    "         input_shape=(sequence_length, nb_features),\n",
    "         units=100,\n",
    "         return_sequences=True))\n",
    "#model.add(LSTM(\n",
    " #        units=100,\n",
    "  #       return_sequences=True))\n",
    "\n",
    "#model.add(Dropout(0.2))\n",
    "\n",
    "model.add(LSTM(\n",
    "          units=50,\n",
    "          return_sequences=True))\n",
    "model.add(Dropout(0.2))\n",
    "\n",
    "model.add(LSTM(\n",
    "          units=25,\n",
    "          return_sequences=False))\n",
    "#model.add(Dropout(0.25))\n",
    "\n",
    "model.add(Dense(units=nb_out, activation='softmax'))\n",
    "model.compile(loss='categorical_crossentropy',optimizer='adam', metrics=['accuracy'])\n",
    "#model.compile(optimizer='adam', metrics=['accuracy'])\n",
    "\n",
    "print(model.summary())\n",
    "print(nb_out)\n"
   ]
  },
  {
   "cell_type": "code",
   "execution_count": 90,
   "id": "c77da7d9",
   "metadata": {},
   "outputs": [
    {
     "name": "stdout",
     "output_type": "stream",
     "text": [
      "Epoch 1/20\n",
      "71/71 [==============================] - 9s 130ms/step - loss: 0.2170 - accuracy: 0.9308 - val_loss: 0.0560 - val_accuracy: 0.9808\n",
      "Epoch 2/20\n",
      "71/71 [==============================] - 9s 121ms/step - loss: 0.0540 - accuracy: 0.9800 - val_loss: 0.0663 - val_accuracy: 0.9712\n"
     ]
    },
    {
     "data": {
      "text/plain": [
       "<tensorflow.python.keras.callbacks.History at 0x1edbe4681c0>"
      ]
     },
     "execution_count": 90,
     "metadata": {},
     "output_type": "execute_result"
    }
   ],
   "source": [
    "# fit the network\n",
    "model.fit(seq_array, label_array3D, epochs=20, batch_size=200, validation_split=0.1, verbose=1,\n",
    "          callbacks = [history,keras.callbacks.EarlyStopping(monitor='val_loss', min_delta=0, patience=0, verbose=0, mode='auto')])"
   ]
  },
  {
   "cell_type": "code",
   "execution_count": 91,
   "id": "79a8de5c",
   "metadata": {},
   "outputs": [
    {
     "name": "stdout",
     "output_type": "stream",
     "text": [
      "79/79 [==============================] - 4s 46ms/step - loss: 0.0393 - accuracy: 0.9851\n",
      "Accurracy: 0.9850937128067017\n"
     ]
    }
   ],
   "source": [
    "# training metrics\n",
    "scores = model.evaluate(seq_array, label_array3D, verbose=1, batch_size=200)\n",
    "print('Accurracy: {}'.format(scores[1]))"
   ]
  },
  {
   "cell_type": "code",
   "execution_count": 92,
   "id": "4d7dd735",
   "metadata": {},
   "outputs": [
    {
     "name": "stdout",
     "output_type": "stream",
     "text": [
      "79/79 [==============================] - 4s 48ms/step\n",
      "Confusion matrix\n",
      "- x-axis is true labels.\n",
      "- y-axis is predicted labels\n"
     ]
    },
    {
     "data": {
      "text/plain": [
       "Text(0.5, 442.81090909090915, 'Predicted Values')"
      ]
     },
     "execution_count": 92,
     "metadata": {},
     "output_type": "execute_result"
    },
    {
     "data": {
      "image/png": "[encoded data removed]",
      "text/plain": [
       "<Figure size 864x864 with 2 Axes>"
      ]
     },
     "metadata": {
      "needs_background": "light"
     },
     "output_type": "display_data"
    }
   ],
   "source": [
    "# make predictions and compute confusion matrix for training data\n",
    "#threshold = 0.42\n",
    "y_pred_1 = model.predict(seq_array,verbose=1, batch_size=200)\n",
    "y_pred = np.argmax(y_pred_1,axis=-1)\n",
    "      \n",
    "#y_pred = np.where(y_pred > threshold,1,0)\n",
    "y_true = label_array\n",
    "print('Confusion matrix\\n- x-axis is true labels.\\n- y-axis is predicted labels')\n",
    "cm = confusion_matrix(y_true, y_pred)\n",
    "plt.figure(figsize=(12,12))\n",
    "plt.subplot(221)\n",
    "sns.heatmap(cm, fmt = \"d\",annot=True, cmap='Blues')\n",
    "b, t = plt.ylim()\n",
    "plt.ylim(b + 0.5, t - 0.5)\n",
    "plt.title('Confuion Matrix - traing')\n",
    "plt.ylabel('True Values')\n",
    "plt.xlabel('Predicted Values')\n",
    "#print(cm)"
   ]
  },
  {
   "cell_type": "code",
   "execution_count": 93,
   "id": "06f6d52d",
   "metadata": {},
   "outputs": [
    {
     "name": "stdout",
     "output_type": "stream",
     "text": [
      "precision =  0.9559669505409564 \n",
      " recall =  0.9605463783151119\n"
     ]
    }
   ],
   "source": [
    "# compute precision and recall\n",
    "precision = precision_score(y_true, y_pred,average=\"macro\")\n",
    "recall = recall_score(y_true, y_pred,average=\"macro\")\n",
    "print( 'precision = ', precision, '\\n', 'recall = ', recall)"
   ]
  },
  {
   "cell_type": "markdown",
   "id": "b600c5b0",
   "metadata": {},
   "source": [
    "#### Predict and evalaute using test data"
   ]
  },
  {
   "cell_type": "code",
   "execution_count": 94,
   "id": "353316fd",
   "metadata": {},
   "outputs": [
    {
     "name": "stdout",
     "output_type": "stream",
     "text": [
      "Dimension of sequence array: (93, 50, 26)\n"
     ]
    }
   ],
   "source": [
    "# Generate sequence array from test data\n",
    "seq_test = [test_df[test_df['id']==id][sequence_cols].values[-sequence_length:] \n",
    "                       for id in test_df['id'].unique() if len(test_df[test_df['id']==id]) >= sequence_length]\n",
    "\n",
    "seq_test = np.asarray(seq_test).astype(np.float32)\n",
    "print('Dimension of sequence array:',seq_test.shape)"
   ]
  },
  {
   "cell_type": "code",
   "execution_count": 95,
   "id": "0c2c59d7",
   "metadata": {},
   "outputs": [
    {
     "name": "stdout",
     "output_type": "stream",
     "text": [
      "[0. 1. 2.]\n",
      "Dimension of lebel array: (93, 3)\n"
     ]
    }
   ],
   "source": [
    "# Generate sequence label array\n",
    "y_mask = [len(test_df[test_df['id']==id]) >= sequence_length for id in test_df['id'].unique()]\n",
    "label_test = test_df.groupby('id')['label2'].nth(-1)[y_mask].values\n",
    "label_test = label_test.reshape(label_test.shape[0],1).astype(np.float32)\n",
    "label_test.shape\n",
    "label_test3D = to_categorical(label_test)\n",
    "print(np.unique(label_test))\n",
    "print('Dimension of lebel array:', label_test3D.shape)"
   ]
  },
  {
   "cell_type": "code",
   "execution_count": 96,
   "id": "7be2eda6",
   "metadata": {},
   "outputs": [
    {
     "name": "stdout",
     "output_type": "stream",
     "text": [
      "3/3 - 0s - loss: 0.0543 - accuracy: 0.9892\n",
      "Accurracy: 0.9892473220825195\n"
     ]
    }
   ],
   "source": [
    "# test metrics\n",
    "scores_test = model.evaluate(seq_test, label_test3D, verbose=2)\n",
    "print('Accurracy: {}'.format(scores_test[1]))"
   ]
  },
  {
   "cell_type": "code",
   "execution_count": 97,
   "id": "52510edf",
   "metadata": {},
   "outputs": [
    {
     "name": "stdout",
     "output_type": "stream",
     "text": [
      "1/1 [==============================] - 0s 1ms/step\n",
      "Confusion matrix\n",
      "- x-axis is true labels.\n",
      "- y-axis is predicted labels\n"
     ]
    },
    {
     "data": {
      "text/plain": [
       "Text(0.5, 442.81090909090915, 'Predicted Values')"
      ]
     },
     "execution_count": 97,
     "metadata": {},
     "output_type": "execute_result"
    },
    {
     "data": {
      "image/png": "[encoded data removed]",
      "text/plain": [
       "<Figure size 864x864 with 2 Axes>"
      ]
     },
     "metadata": {
      "needs_background": "light"
     },
     "output_type": "display_data"
    }
   ],
   "source": [
    "# make predictions and compute confusion matrix for training data\n",
    "#threshold = 0.42\n",
    "y_pred_1 = model.predict(seq_test,verbose=1, batch_size=200)\n",
    "y_pred = np.argmax(y_pred_1,axis=-1)\n",
    "      \n",
    "#y_pred = np.where(y_pred > threshold,1,0)\n",
    "y_true = label_test\n",
    "print('Confusion matrix\\n- x-axis is true labels.\\n- y-axis is predicted labels')\n",
    "cm = confusion_matrix(y_true, y_pred)\n",
    "plt.figure(figsize=(12,12))\n",
    "plt.subplot(221)\n",
    "sns.heatmap(cm, fmt = \"d\",annot=True, cmap='Blues')\n",
    "b, t = plt.ylim()\n",
    "plt.ylim(b + 0.5, t - 0.5)\n",
    "plt.title('Confuion Matrix - test')\n",
    "plt.ylabel('True Values')\n",
    "plt.xlabel('Predicted Values')\n",
    "#print(cm)"
   ]
  },
  {
   "cell_type": "markdown",
   "id": "a3db221a",
   "metadata": {},
   "source": [
    "<br>\n",
    "<br>\n",
    "<br>\n",
    "\n",
    "\n",
    "\n",
    "## <span style='color:green'> -------Final comparison and results: Multiclass classification------- </span>"
   ]
  },
  {
   "cell_type": "code",
   "execution_count": 98,
   "id": "3c8fc82d",
   "metadata": {},
   "outputs": [
    {
     "name": "stdout",
     "output_type": "stream",
     "text": [
      "Precision average macro:  0.9696969696969697 \n",
      " Recall average macro:  0.9777777777777779 \n",
      " F1-score average macro: 0.9737206085753805\n",
      "+--------------------------------------------+--------------------+------------------+---------------+----------------+\n",
      "|                                            |   Overall Accuracy |   Precision avg  |   Recall avg  |   F1-score avg |\n",
      "|                                            |                    |      (macro)     |    (macro)    |     (macro)    |\n",
      "|--------------------------------------------+--------------------+------------------+---------------+----------------|\n",
      "| Axbit best model (LSTM)                    |               0.99 |             0.97 |          0.98 |           0.97 |\n",
      "| Azure Template Best Model (Neural network) |               0.92 |             0.86 |          0.84 |           0.81 |\n",
      "+--------------------------------------------+--------------------+------------------+---------------+----------------+\n"
     ]
    }
   ],
   "source": [
    "# compute precision and recall\n",
    "precision_test = precision_score(y_true, y_pred,average=\"macro\")\n",
    "recall_test = recall_score(y_true, y_pred,average=\"macro\")\n",
    "f1_test = 2 * (precision_test * recall_test) / (precision_test + recall_test)\n",
    "print( 'Precision average macro: ', precision_test, '\\n', 'Recall average macro: ', recall_test,'\\n', 'F1-score average macro:', f1_test )\n",
    "\n",
    "results_df = pd.DataFrame([[np.round(scores_test[1],2),np.round(precision_test,2),np.round(recall_test,2),np.round(f1_test,2)],\n",
    "                          [0.92, 0.86, 0.84, 0.81]],\n",
    "                         columns = ['Overall Accuracy', 'Precision avg \\n (macro)    ', 'Recall avg \\n(macro)   ', 'F1-score avg\\n(macro)   '],\n",
    "                         index = ['Axbit best model (LSTM)',\n",
    "                                 'Azure Template Best Model (Neural network)'])\n",
    "#print(results_df)\n",
    "print(tabulate(results_df,headers='keys',tablefmt='psql'))\n",
    "\n",
    "\n"
   ]
  },
  {
   "cell_type": "markdown",
   "id": "dca1d23f",
   "metadata": {},
   "source": [
    "Clearly LSTM achieves better accuracy, precision, recall and F1-Score"
   ]
  },
  {
   "cell_type": "code",
   "execution_count": null,
   "id": "0b4b0423",
   "metadata": {},
   "outputs": [],
   "source": []
  }
 ],
 "metadata": {
  "kernelspec": {
   "display_name": "Python 3",
   "language": "python",
   "name": "python3"
  },
  "language_info": {
   "codemirror_mode": {
    "name": "ipython",
    "version": 3
   },
   "file_extension": ".py",
   "mimetype": "text/x-python",
   "name": "python",
   "nbconvert_exporter": "python",
   "pygments_lexer": "ipython3",
   "version": "3.8.8"
  }
 },
 "nbformat": 4,
 "nbformat_minor": 5
}
